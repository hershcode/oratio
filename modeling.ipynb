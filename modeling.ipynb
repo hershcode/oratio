{
 "cells": [
  {
   "cell_type": "code",
   "execution_count": 16,
   "metadata": {},
   "outputs": [
    {
     "ename": "ImportError",
     "evalue": "cannot import name 'to_categorical' from 'keras.utils' (/Users/harshinderchadha/general/lib/python3.8/site-packages/keras/utils/__init__.py)",
     "output_type": "error",
     "traceback": [
      "\u001b[0;31m---------------------------------------------------------------------------\u001b[0m",
      "\u001b[0;31mImportError\u001b[0m                               Traceback (most recent call last)",
      "\u001b[0;32m<ipython-input-16-eed2e421fb9b>\u001b[0m in \u001b[0;36m<module>\u001b[0;34m\u001b[0m\n\u001b[1;32m     17\u001b[0m \u001b[0;31m# from keras.layers import Dense, Dropout, Activation\u001b[0m\u001b[0;34m\u001b[0m\u001b[0;34m\u001b[0m\u001b[0;34m\u001b[0m\u001b[0m\n\u001b[1;32m     18\u001b[0m \u001b[0;31m# from keras.optimizers import Adam\u001b[0m\u001b[0;34m\u001b[0m\u001b[0;34m\u001b[0m\u001b[0;34m\u001b[0m\u001b[0m\n\u001b[0;32m---> 19\u001b[0;31m \u001b[0;32mfrom\u001b[0m \u001b[0mkeras\u001b[0m\u001b[0;34m.\u001b[0m\u001b[0mutils\u001b[0m \u001b[0;32mimport\u001b[0m \u001b[0mto_categorical\u001b[0m\u001b[0;34m\u001b[0m\u001b[0;34m\u001b[0m\u001b[0m\n\u001b[0m\u001b[1;32m     20\u001b[0m \u001b[0;32mfrom\u001b[0m \u001b[0msklearn\u001b[0m\u001b[0;34m.\u001b[0m\u001b[0mlinear_model\u001b[0m \u001b[0;32mimport\u001b[0m \u001b[0mLogisticRegression\u001b[0m\u001b[0;34m\u001b[0m\u001b[0;34m\u001b[0m\u001b[0m\n\u001b[1;32m     21\u001b[0m \u001b[0;34m\u001b[0m\u001b[0m\n",
      "\u001b[0;31mImportError\u001b[0m: cannot import name 'to_categorical' from 'keras.utils' (/Users/harshinderchadha/general/lib/python3.8/site-packages/keras/utils/__init__.py)"
     ]
    }
   ],
   "source": [
    "import os \n",
    "import sys\n",
    "\n",
    "import pandas as pd\n",
    "import numpy as np\n",
    "import librosa\n",
    "import librosa.display\n",
    "import matplotlib.pyplot as plt\n",
    "import IPython.display as ipd\n",
    "\n",
    "from scipy.io import wavfile as wav\n",
    "from sklearn import metrics \n",
    "from sklearn.preprocessing import LabelEncoder\n",
    "from sklearn.model_selection import train_test_split \n",
    "import tensorflow as tf\n",
    "# from keras.models import Sequential\n",
    "# from keras.layers import Dense, Dropout, Activation\n",
    "# from keras.optimizers import Adam\n",
    "from sklearn.linear_model import LogisticRegression\n",
    "\n",
    "%matplotlib inline\n",
    "%config InlineBackend.figure_format='retina'"
   ]
  },
  {
   "cell_type": "code",
   "execution_count": 4,
   "metadata": {},
   "outputs": [],
   "source": [
    "PATH = os.getcwd() + '/speech_commands_v0.01/'"
   ]
  },
  {
   "cell_type": "code",
   "execution_count": 6,
   "metadata": {},
   "outputs": [],
   "source": [
    "def get_directory_contents(path):\n",
    "    return os.listdir(path)\n",
    "\n",
    "def open_file(filename):\n",
    "    \n",
    "    f = open(filename)\n",
    "    return f.read().splitlines()\n",
    "\n",
    "def compile_dataset(folders):\n",
    "    \n",
    "    total_words = []\n",
    "    for folder in folders:\n",
    "        words = get_directory_contents(path=PATH+folder)\n",
    "        words = [folder+'/'+word for word in words]\n",
    "        total_words = total_words + words\n",
    "    \n",
    "    dataset = create_df(words=total_words)\n",
    "                           \n",
    "    return dataset\n",
    "\n",
    "def create_df(words):\n",
    "    \n",
    "    data = pd.DataFrame({'recordings':words})\n",
    "\n",
    "    data['word'] = data['recordings'].str.split('/').str[0]\n",
    "    data['speaker_id'] = data['recordings'].str.split('/').str[1]\n",
    "    data['speaker_id'] =data['speaker_id'].str.split('_').str[0]\n",
    "    \n",
    "    return data\n",
    "\n",
    "def summary(data):\n",
    "    \n",
    "    summary_df = pd.DataFrame()\n",
    "    summary_df['total_recordings'] = [data.shape[0]]\n",
    "    summary_df['total_speakers'] = len(data['speaker_id'].unique())\n",
    "    summary_df['total_words'] = len(data['word'].unique())\n",
    "    \n",
    "    return summary_df\n",
    "\n",
    "def word_distribution():\n",
    "    \n",
    "    word_count = data['word'].value_counts()\n",
    "    ax = word_count.plot(kind='bar', figsize=(8,4), alpha=0.5)\n",
    "    plt.show()"
   ]
  },
  {
   "cell_type": "code",
   "execution_count": 7,
   "metadata": {},
   "outputs": [],
   "source": [
    "remove_words = [\n",
    "    '.DS_Store', 'validation_list.txt', 'LICENSE',\n",
    "    '_background_noise_', 'README.md', 'testing_list.txt'\n",
    "]\n",
    "\n",
    "names = get_directory_contents(path=PATH)\n",
    "names = [word for word in names if word not in remove_words]"
   ]
  },
  {
   "cell_type": "code",
   "execution_count": 8,
   "metadata": {},
   "outputs": [],
   "source": [
    "val_list = open_file(filename=PATH+'validation_list.txt')\n",
    "val_df = create_df(words=val_list)\n",
    "test_list = open_file(filename=PATH+'testing_list.txt')\n",
    "test_df = create_df(words=test_list)\n",
    "total_df = compile_dataset(folders=names)\n",
    "\n",
    "training_df = total_df[~total_df['recordings'].isin(val_df['recordings'])]\n",
    "training_df = training_df[~training_df['recordings'].isin(test_df['recordings'])]"
   ]
  },
  {
   "cell_type": "code",
   "execution_count": 9,
   "metadata": {},
   "outputs": [
    {
     "name": "stdout",
     "output_type": "stream",
     "text": [
      "Original sample rate: 16000\n",
      "Librosa sample rate: 22050\n"
     ]
    }
   ],
   "source": [
    "fn = 'speech_commands_v0.01/four/10c6d873_nohash_0.wav'\n",
    "librosa_audio, librosa_sample_rate = librosa.load(fn)\n",
    "scipy_sample_rate, scipy_audio = wav.read(fn)\n",
    "print(\"Original sample rate: {}\".format(scipy_sample_rate))\n",
    "print(\"Librosa sample rate: {}\".format(librosa_sample_rate))"
   ]
  },
  {
   "cell_type": "code",
   "execution_count": 10,
   "metadata": {},
   "outputs": [
    {
     "name": "stdout",
     "output_type": "stream",
     "text": [
      "Original audio file min~max range: -32768 to 16883\n",
      "Librosa audio file min~max range: -1.00 to -1.00\n"
     ]
    }
   ],
   "source": [
    "print('Original audio file min~max range: {} to {}'.format(np.min(scipy_audio), np.max(scipy_audio)))\n",
    "print('Librosa audio file min~max range: {0:.2f} to {0:.2f}'.format(np.min(librosa_audio), np.max(librosa_audio)))"
   ]
  },
  {
   "cell_type": "code",
   "execution_count": 11,
   "metadata": {},
   "outputs": [],
   "source": [
    "mfccs = librosa.feature.mfcc(y=librosa_audio, sr=librosa_sample_rate, n_mfcc=40)"
   ]
  },
  {
   "cell_type": "code",
   "execution_count": 12,
   "metadata": {},
   "outputs": [],
   "source": [
    "def extract_features(file_name):\n",
    "    audio, sample_rate = librosa.load(file_name) \n",
    "    mfccs = librosa.feature.mfcc(y=audio, sr=sample_rate, n_mfcc=40)\n",
    "    mfccs_processed = np.mean(mfccs.T,axis=0)\n",
    "     \n",
    "    return mfccs_processed"
   ]
  },
  {
   "cell_type": "code",
   "execution_count": 13,
   "metadata": {},
   "outputs": [],
   "source": [
    "def dataset_prep(df):\n",
    "    features = []\n",
    "    # Iterate through each sound file and extract the features \n",
    "    for index, row in df.iterrows():\n",
    "        file_name = 'speech_commands_v0.01/'+row['recordings']\n",
    "        class_label = row[\"word\"]\n",
    "        data = extract_features(file_name)\n",
    "\n",
    "        features.append([data, class_label])\n",
    "    # Convert into a Panda dataframe \n",
    "    featuresdf = pd.DataFrame(features, columns=['feature','class_label'])\n",
    "    return featuresdf"
   ]
  },
  {
   "cell_type": "code",
   "execution_count": 14,
   "metadata": {},
   "outputs": [],
   "source": [
    "featuresdf = dataset_prep(df=training_df)\n",
    "featuresdf.to_csv(\"training_set.csv\")\n",
    "\n",
    "testdf = dataset_prep(df=test_df)\n",
    "valdf = dataset_prep(df=val_df)"
   ]
  },
  {
   "cell_type": "code",
   "execution_count": 15,
   "metadata": {},
   "outputs": [],
   "source": [
    "testdf.to_csv(\"testdf.csv\")\n",
    "valdf.to_csv(\"validation_set.csv\")"
   ]
  },
  {
   "cell_type": "code",
   "execution_count": 17,
   "metadata": {},
   "outputs": [],
   "source": [
    "# Convert features and corresponding classification labels into numpy arrays\n",
    "X = np.array(featuresdf.feature.tolist())\n",
    "y = np.array(featuresdf.class_label.tolist())\n",
    "# Encode the classification labels\n",
    "le = LabelEncoder()\n",
    "yy = tf.keras.utils.to_categorical(le.fit_transform(y))\n",
    "\n",
    "x_val = np.array(valdf.feature.tolist())\n",
    "y_val = np.array(valdf.class_label.tolist())\n",
    "y_val = tf.keras.utils.to_categorical(le.transform(y_val))\n",
    "\n",
    "x_test = np.array(testdf.feature.tolist())\n",
    "y_test = np.array(testdf.class_label.tolist())\n",
    "y_test = tf.keras.utils.to_categorical(le.transform(y_test))"
   ]
  },
  {
   "cell_type": "markdown",
   "metadata": {},
   "source": [
    "### Normal Logistic Regression model"
   ]
  },
  {
   "cell_type": "code",
   "execution_count": 32,
   "metadata": {},
   "outputs": [],
   "source": [
    "clf = LogisticRegression(multi_class='multinomial', solver='newton-cg')"
   ]
  },
  {
   "cell_type": "code",
   "execution_count": 34,
   "metadata": {},
   "outputs": [],
   "source": [
    "def to_category(columns, dataframe):\n",
    "    \"\"\"Convert a list of columns, from a dataframe, to a category datatype\"\"\"\n",
    "    for column in columns: \n",
    "        dataframe[column] = dataframe[column].astype('category')\n",
    "    return dataframe\n",
    "columns=['word']\n",
    "\n",
    "training_df = to_category(columns=columns, dataframe=training_df)\n",
    "test_df = to_category(columns=columns, dataframe=test_df)\n",
    "val_df = to_category(columns=columns, dataframe=val_df)"
   ]
  },
  {
   "cell_type": "code",
   "execution_count": 35,
   "metadata": {},
   "outputs": [
    {
     "name": "stdout",
     "output_type": "stream",
     "text": [
      "Training Accuracy: 29.40%\n",
      "Validation Accuracy: 29.07%\n",
      "Testing Accuracy: 26.53%\n"
     ]
    },
    {
     "name": "stderr",
     "output_type": "stream",
     "text": [
      "/Users/harshinderchadha/general/lib/python3.8/site-packages/sklearn/utils/optimize.py:202: ConvergenceWarning: newton-cg failed to converge. Increase the number of iterations.\n",
      "  warnings.warn(\"newton-cg failed to converge. Increase the \"\n"
     ]
    }
   ],
   "source": [
    "clf.fit(X, training_df['word'])\n",
    "\n",
    "print(\"Training Accuracy: {0:.2%}\".format(clf.score(X, training_df['word'])))\n",
    "print(\"Validation Accuracy: {0:.2%}\".format(clf.score(x_val, val_df['word'])))\n",
    "print(\"Testing Accuracy: {0:.2%}\".format(clf.score(x_test, test_df['word'])))"
   ]
  },
  {
   "cell_type": "markdown",
   "metadata": {},
   "source": [
    "## Deep Learning Models "
   ]
  },
  {
   "cell_type": "code",
   "execution_count": 156,
   "metadata": {},
   "outputs": [],
   "source": [
    "def build_model_graph(input_shape=(40,)):\n",
    "    model = tf.keras.Sequential()\n",
    "    model.add(tf.keras.layers.Input(input_shape))\n",
    "    model.add(tf.keras.layers.Dense(30))\n",
    "    # Compile the model\n",
    "    model.compile(loss=tf.keras.losses.CategoricalCrossentropy(from_logits=True), \n",
    "                  metrics=['accuracy'], optimizer='adam')\n",
    "    return model\n",
    "\n",
    "def deep_nn_model(input_shape=(40,)):\n",
    "    model = tf.keras.Sequential([\n",
    "        tf.keras.layers.Input(input_shape),\n",
    "        tf.keras.layers.Dense(36, activation='relu'),\n",
    "        tf.keras.layers.Dense(32, activation='relu'),\n",
    "        tf.keras.layers.Dense(30)\n",
    "    ])\n",
    "    # Compile the model\n",
    "    model.compile(loss=tf.keras.losses.CategoricalCrossentropy(from_logits=True),\n",
    "                  metrics=['accuracy'], optimizer='adam')\n",
    "    return model\n",
    "\n",
    "def big_nn_model(input_shape=(40,)):\n",
    "    model = tf.keras.Sequential([\n",
    "        tf.keras.layers.Input(input_shape),\n",
    "        tf.keras.layers.Dense(512, activation='relu'),\n",
    "        tf.keras.layers.Dense(256, activation='relu'),\n",
    "        tf.keras.layers.Dense(128, activation='relu'),\n",
    "        tf.keras.layers.Dense(64, activation='relu'),\n",
    "        tf.keras.layers.Dense(30)\n",
    "    ])\n",
    "    # Compile the model\n",
    "    model.compile(loss=tf.keras.losses.CategoricalCrossentropy(from_logits=True), \n",
    "                  metrics=['accuracy'], optimizer='adam')\n",
    "    return model\n",
    "\n",
    "def fit_model(model, epochs, X, y, validation_data, verbose):\n",
    "    \n",
    "    history, model.fit(X, y, epochs=epochs, validation_data=validation_data, verbose=verbose)\n",
    "    return model, history\n",
    "\n",
    "def plot_metric(history, metric):\n",
    "    train_metrics = history.history[metric]\n",
    "    val_metrics = history.history['val_'+metric]\n",
    "    epochs = range(1, len(train_metrics) + 1)\n",
    "    plt.plot(epochs, train_metrics)\n",
    "    plt.plot(epochs, val_metrics)\n",
    "    plt.title('Training and validation '+ metric)\n",
    "    plt.xlabel(\"Epochs\")\n",
    "    plt.ylabel(metric)\n",
    "    plt.legend([\"train_\"+metric, 'val_'+metric])\n",
    "    plt.show()"
   ]
  },
  {
   "cell_type": "markdown",
   "metadata": {},
   "source": [
    "### Vanilla Deep learning model "
   ]
  },
  {
   "cell_type": "code",
   "execution_count": 157,
   "metadata": {},
   "outputs": [
    {
     "name": "stdout",
     "output_type": "stream",
     "text": [
      "Epoch 1/100\n",
      "1597/1597 [==============================] - 3s 1ms/step - loss: 12.7209 - accuracy: 0.1272 - val_loss: 2.9716 - val_accuracy: 0.1993\n",
      "Epoch 2/100\n",
      "1597/1597 [==============================] - 2s 1ms/step - loss: 2.7555 - accuracy: 0.2277 - val_loss: 2.6818 - val_accuracy: 0.2348\n",
      "Epoch 3/100\n",
      "1597/1597 [==============================] - 2s 1ms/step - loss: 2.6872 - accuracy: 0.2325 - val_loss: 2.7025 - val_accuracy: 0.2396\n",
      "Epoch 4/100\n",
      "1597/1597 [==============================] - 2s 1ms/step - loss: 2.6923 - accuracy: 0.2300 - val_loss: 2.6442 - val_accuracy: 0.2385\n",
      "Epoch 5/100\n",
      "1597/1597 [==============================] - 2s 1ms/step - loss: 2.6929 - accuracy: 0.2323 - val_loss: 2.6580 - val_accuracy: 0.2382\n",
      "Epoch 6/100\n",
      "1597/1597 [==============================] - 2s 1ms/step - loss: 2.6810 - accuracy: 0.2349 - val_loss: 2.6562 - val_accuracy: 0.2348\n",
      "Epoch 7/100\n",
      "1597/1597 [==============================] - 2s 2ms/step - loss: 2.6827 - accuracy: 0.2348 - val_loss: 2.6769 - val_accuracy: 0.2357\n",
      "Epoch 8/100\n",
      "1597/1597 [==============================] - 2s 2ms/step - loss: 2.6850 - accuracy: 0.2327 - val_loss: 2.6619 - val_accuracy: 0.2349\n",
      "Epoch 9/100\n",
      "1597/1597 [==============================] - 3s 2ms/step - loss: 2.6767 - accuracy: 0.2355 - val_loss: 2.6645 - val_accuracy: 0.2364\n",
      "Epoch 10/100\n",
      "1597/1597 [==============================] - 3s 2ms/step - loss: 2.6802 - accuracy: 0.2357 - val_loss: 2.7300 - val_accuracy: 0.2358\n",
      "Epoch 11/100\n",
      "1597/1597 [==============================] - 3s 2ms/step - loss: 2.6828 - accuracy: 0.2340 - val_loss: 2.6613 - val_accuracy: 0.2383\n",
      "Epoch 12/100\n",
      "1597/1597 [==============================] - 2s 2ms/step - loss: 2.6793 - accuracy: 0.2326 - val_loss: 2.6870 - val_accuracy: 0.2271\n",
      "Epoch 13/100\n",
      "1597/1597 [==============================] - 3s 2ms/step - loss: 2.6764 - accuracy: 0.2370 - val_loss: 2.6871 - val_accuracy: 0.2318\n",
      "Epoch 14/100\n",
      "1597/1597 [==============================] - 3s 2ms/step - loss: 2.6743 - accuracy: 0.2367 - val_loss: 2.5891 - val_accuracy: 0.2571\n",
      "Epoch 15/100\n",
      "1597/1597 [==============================] - 3s 2ms/step - loss: 2.6837 - accuracy: 0.2350 - val_loss: 2.6182 - val_accuracy: 0.2543\n",
      "Epoch 16/100\n",
      "1597/1597 [==============================] - 4s 2ms/step - loss: 2.6746 - accuracy: 0.2360 - val_loss: 2.6378 - val_accuracy: 0.2470\n",
      "Epoch 17/100\n",
      "1597/1597 [==============================] - 4s 2ms/step - loss: 2.6737 - accuracy: 0.2343 - val_loss: 2.6906 - val_accuracy: 0.2230\n",
      "Epoch 18/100\n",
      "1597/1597 [==============================] - 4s 2ms/step - loss: 2.6779 - accuracy: 0.2363 - val_loss: 2.6350 - val_accuracy: 0.2442\n",
      "Epoch 19/100\n",
      "1597/1597 [==============================] - 3s 2ms/step - loss: 2.6769 - accuracy: 0.2349 - val_loss: 2.7229 - val_accuracy: 0.2249\n",
      "Epoch 20/100\n",
      "1597/1597 [==============================] - 4s 2ms/step - loss: 2.6712 - accuracy: 0.2370 - val_loss: 2.6612 - val_accuracy: 0.2365\n",
      "Epoch 21/100\n",
      "1597/1597 [==============================] - 3s 2ms/step - loss: 2.6745 - accuracy: 0.2363 - val_loss: 2.7144 - val_accuracy: 0.2311\n",
      "Epoch 22/100\n",
      "1597/1597 [==============================] - 4s 2ms/step - loss: 2.6699 - accuracy: 0.2372 - val_loss: 2.6675 - val_accuracy: 0.2411\n",
      "Epoch 23/100\n",
      "1597/1597 [==============================] - 3s 2ms/step - loss: 2.6745 - accuracy: 0.2351 - val_loss: 2.6028 - val_accuracy: 0.2496\n",
      "Epoch 24/100\n",
      "1597/1597 [==============================] - 3s 2ms/step - loss: 2.6705 - accuracy: 0.2361 - val_loss: 2.6801 - val_accuracy: 0.2437\n",
      "Epoch 25/100\n",
      "1597/1597 [==============================] - 3s 2ms/step - loss: 2.6775 - accuracy: 0.2356 - val_loss: 2.7670 - val_accuracy: 0.2179\n",
      "Epoch 26/100\n",
      "1597/1597 [==============================] - 3s 2ms/step - loss: 2.6696 - accuracy: 0.2363 - val_loss: 2.6028 - val_accuracy: 0.2552\n",
      "Epoch 27/100\n",
      "1597/1597 [==============================] - 4s 2ms/step - loss: 2.6688 - accuracy: 0.2362 - val_loss: 2.6542 - val_accuracy: 0.2471\n",
      "Epoch 28/100\n",
      "1597/1597 [==============================] - 3s 2ms/step - loss: 2.6728 - accuracy: 0.2370 - val_loss: 2.6624 - val_accuracy: 0.2282\n",
      "Epoch 29/100\n",
      "1597/1597 [==============================] - 4s 2ms/step - loss: 2.6665 - accuracy: 0.2370 - val_loss: 2.6443 - val_accuracy: 0.2364\n",
      "Epoch 30/100\n",
      "1597/1597 [==============================] - 3s 2ms/step - loss: 2.6712 - accuracy: 0.2358 - val_loss: 2.6279 - val_accuracy: 0.2543\n",
      "Epoch 31/100\n",
      "1597/1597 [==============================] - 3s 2ms/step - loss: 2.6640 - accuracy: 0.2376 - val_loss: 2.6162 - val_accuracy: 0.2471\n",
      "Epoch 32/100\n",
      "1597/1597 [==============================] - 3s 2ms/step - loss: 2.6673 - accuracy: 0.2345 - val_loss: 2.6232 - val_accuracy: 0.2446\n",
      "Epoch 33/100\n",
      "1597/1597 [==============================] - 3s 2ms/step - loss: 2.6661 - accuracy: 0.2352 - val_loss: 2.6555 - val_accuracy: 0.2448\n",
      "Epoch 34/100\n",
      "1597/1597 [==============================] - 4s 2ms/step - loss: 2.6725 - accuracy: 0.2359 - val_loss: 2.6879 - val_accuracy: 0.2386\n",
      "Epoch 35/100\n",
      "1597/1597 [==============================] - 4s 2ms/step - loss: 2.6683 - accuracy: 0.2366 - val_loss: 2.6258 - val_accuracy: 0.2510\n",
      "Epoch 36/100\n",
      "1597/1597 [==============================] - 4s 2ms/step - loss: 2.6643 - accuracy: 0.2358 - val_loss: 2.7292 - val_accuracy: 0.2333\n",
      "Epoch 37/100\n",
      "1597/1597 [==============================] - 4s 2ms/step - loss: 2.6673 - accuracy: 0.2364 - val_loss: 2.6673 - val_accuracy: 0.2473\n",
      "Epoch 38/100\n",
      "1597/1597 [==============================] - 4s 3ms/step - loss: 2.6662 - accuracy: 0.2378 - val_loss: 2.6479 - val_accuracy: 0.2395\n",
      "Epoch 39/100\n",
      "1597/1597 [==============================] - 4s 2ms/step - loss: 2.6669 - accuracy: 0.2361 - val_loss: 2.6234 - val_accuracy: 0.2367\n",
      "Epoch 40/100\n",
      "1597/1597 [==============================] - 3s 2ms/step - loss: 2.6673 - accuracy: 0.2366 - val_loss: 2.6734 - val_accuracy: 0.2407\n",
      "Epoch 41/100\n",
      "1597/1597 [==============================] - 4s 2ms/step - loss: 2.6673 - accuracy: 0.2373 - val_loss: 2.6595 - val_accuracy: 0.2426\n",
      "Epoch 42/100\n",
      "1597/1597 [==============================] - 3s 2ms/step - loss: 2.6662 - accuracy: 0.2367 - val_loss: 2.6147 - val_accuracy: 0.2474\n",
      "Epoch 43/100\n",
      "1597/1597 [==============================] - 4s 2ms/step - loss: 2.6635 - accuracy: 0.2360 - val_loss: 2.6625 - val_accuracy: 0.2467\n",
      "Epoch 44/100\n",
      "1597/1597 [==============================] - 5s 3ms/step - loss: 2.6679 - accuracy: 0.2368 - val_loss: 2.6417 - val_accuracy: 0.2426\n",
      "Epoch 45/100\n",
      "1597/1597 [==============================] - 4s 2ms/step - loss: 2.6660 - accuracy: 0.2367 - val_loss: 2.5935 - val_accuracy: 0.2596\n",
      "Epoch 46/100\n",
      "1597/1597 [==============================] - 6s 4ms/step - loss: 2.6699 - accuracy: 0.2378 - val_loss: 2.6890 - val_accuracy: 0.2396\n",
      "Epoch 47/100\n",
      "1597/1597 [==============================] - 8s 5ms/step - loss: 2.6596 - accuracy: 0.2391 - val_loss: 2.7049 - val_accuracy: 0.2251\n",
      "Epoch 48/100\n",
      "1597/1597 [==============================] - 5s 3ms/step - loss: 2.6617 - accuracy: 0.2394 - val_loss: 2.6184 - val_accuracy: 0.2445\n",
      "Epoch 49/100\n",
      "1597/1597 [==============================] - 2s 2ms/step - loss: 2.6645 - accuracy: 0.2399 - val_loss: 2.6331 - val_accuracy: 0.2443\n",
      "Epoch 50/100\n",
      "1597/1597 [==============================] - 3s 2ms/step - loss: 2.6675 - accuracy: 0.2359 - val_loss: 2.6896 - val_accuracy: 0.2354\n",
      "Epoch 51/100\n",
      "1597/1597 [==============================] - 5s 3ms/step - loss: 2.6641 - accuracy: 0.2378 - val_loss: 2.6136 - val_accuracy: 0.2518\n",
      "Epoch 52/100\n",
      "1597/1597 [==============================] - 3s 2ms/step - loss: 2.6648 - accuracy: 0.2387 - val_loss: 2.6866 - val_accuracy: 0.2296\n",
      "Epoch 53/100\n",
      "1597/1597 [==============================] - 3s 2ms/step - loss: 2.6667 - accuracy: 0.2366 - val_loss: 2.6968 - val_accuracy: 0.2389\n",
      "Epoch 54/100\n",
      "1597/1597 [==============================] - 3s 2ms/step - loss: 2.6639 - accuracy: 0.2368 - val_loss: 2.6496 - val_accuracy: 0.2435\n",
      "Epoch 55/100\n",
      "1597/1597 [==============================] - 2s 1ms/step - loss: 2.6658 - accuracy: 0.2385 - val_loss: 2.5955 - val_accuracy: 0.2482\n",
      "Epoch 56/100\n",
      "1597/1597 [==============================] - 2s 1ms/step - loss: 2.6729 - accuracy: 0.2370 - val_loss: 2.6108 - val_accuracy: 0.2574\n",
      "Epoch 57/100\n"
     ]
    },
    {
     "name": "stdout",
     "output_type": "stream",
     "text": [
      "1597/1597 [==============================] - 2s 1ms/step - loss: 2.6653 - accuracy: 0.2398 - val_loss: 2.6621 - val_accuracy: 0.2495\n",
      "Epoch 58/100\n",
      "1597/1597 [==============================] - 2s 1ms/step - loss: 2.6632 - accuracy: 0.2396 - val_loss: 2.6952 - val_accuracy: 0.2387\n",
      "Epoch 59/100\n",
      "1597/1597 [==============================] - 2s 1ms/step - loss: 2.6674 - accuracy: 0.2384 - val_loss: 2.7956 - val_accuracy: 0.2073\n",
      "Epoch 60/100\n",
      "1597/1597 [==============================] - 2s 2ms/step - loss: 2.6641 - accuracy: 0.2398 - val_loss: 2.6937 - val_accuracy: 0.2383\n",
      "Epoch 61/100\n",
      "1597/1597 [==============================] - 3s 2ms/step - loss: 2.6647 - accuracy: 0.2390 - val_loss: 2.6159 - val_accuracy: 0.2502\n",
      "Epoch 62/100\n",
      "1597/1597 [==============================] - 3s 2ms/step - loss: 2.6638 - accuracy: 0.2388 - val_loss: 2.6574 - val_accuracy: 0.2404\n",
      "Epoch 63/100\n",
      "1597/1597 [==============================] - 3s 2ms/step - loss: 2.6632 - accuracy: 0.2387 - val_loss: 2.6437 - val_accuracy: 0.2336\n",
      "Epoch 64/100\n",
      "1597/1597 [==============================] - 2s 1ms/step - loss: 2.6613 - accuracy: 0.2401 - val_loss: 2.6501 - val_accuracy: 0.2396\n",
      "Epoch 65/100\n",
      "1597/1597 [==============================] - 2s 2ms/step - loss: 2.6592 - accuracy: 0.2400 - val_loss: 2.6446 - val_accuracy: 0.2389\n",
      "Epoch 66/100\n",
      "1597/1597 [==============================] - 3s 2ms/step - loss: 2.6626 - accuracy: 0.2366 - val_loss: 2.6387 - val_accuracy: 0.2426\n",
      "Epoch 67/100\n",
      "1597/1597 [==============================] - 3s 2ms/step - loss: 2.6560 - accuracy: 0.2405 - val_loss: 2.6461 - val_accuracy: 0.2460\n",
      "Epoch 68/100\n",
      "1597/1597 [==============================] - 4s 2ms/step - loss: 2.6598 - accuracy: 0.2391 - val_loss: 2.6406 - val_accuracy: 0.2517\n",
      "Epoch 69/100\n",
      "1597/1597 [==============================] - 4s 3ms/step - loss: 2.6571 - accuracy: 0.2413 - val_loss: 2.6321 - val_accuracy: 0.2436\n",
      "Epoch 70/100\n",
      "1597/1597 [==============================] - 4s 2ms/step - loss: 2.6632 - accuracy: 0.2397 - val_loss: 2.6072 - val_accuracy: 0.2465\n",
      "Epoch 71/100\n",
      "1597/1597 [==============================] - 3s 2ms/step - loss: 2.6640 - accuracy: 0.2385 - val_loss: 2.6246 - val_accuracy: 0.2412\n",
      "Epoch 72/100\n",
      "1597/1597 [==============================] - 4s 2ms/step - loss: 2.6615 - accuracy: 0.2393 - val_loss: 2.6125 - val_accuracy: 0.2504\n",
      "Epoch 73/100\n",
      "1597/1597 [==============================] - 3s 2ms/step - loss: 2.6598 - accuracy: 0.2392 - val_loss: 2.5868 - val_accuracy: 0.2521\n",
      "Epoch 74/100\n",
      "1597/1597 [==============================] - 3s 2ms/step - loss: 2.6618 - accuracy: 0.2359 - val_loss: 2.7792 - val_accuracy: 0.2246\n",
      "Epoch 75/100\n",
      "1597/1597 [==============================] - 3s 2ms/step - loss: 2.6616 - accuracy: 0.2382 - val_loss: 2.7029 - val_accuracy: 0.2298\n",
      "Epoch 76/100\n",
      "1597/1597 [==============================] - 3s 2ms/step - loss: 2.6633 - accuracy: 0.2366 - val_loss: 2.6056 - val_accuracy: 0.2502\n",
      "Epoch 77/100\n",
      "1597/1597 [==============================] - 3s 2ms/step - loss: 2.6636 - accuracy: 0.2376 - val_loss: 2.6980 - val_accuracy: 0.2360\n",
      "Epoch 78/100\n",
      "1597/1597 [==============================] - 4s 3ms/step - loss: 2.6644 - accuracy: 0.2367 - val_loss: 2.5901 - val_accuracy: 0.2645\n",
      "Epoch 79/100\n",
      "1597/1597 [==============================] - 3s 2ms/step - loss: 2.6616 - accuracy: 0.2397 - val_loss: 2.7018 - val_accuracy: 0.2317\n",
      "Epoch 80/100\n",
      "1597/1597 [==============================] - 3s 2ms/step - loss: 2.6623 - accuracy: 0.2379 - val_loss: 2.5995 - val_accuracy: 0.2446\n",
      "Epoch 81/100\n",
      "1597/1597 [==============================] - 2s 2ms/step - loss: 2.6562 - accuracy: 0.2385 - val_loss: 2.6246 - val_accuracy: 0.2387\n",
      "Epoch 82/100\n",
      "1597/1597 [==============================] - 2s 2ms/step - loss: 2.6599 - accuracy: 0.2385 - val_loss: 2.6530 - val_accuracy: 0.2327\n",
      "Epoch 83/100\n",
      "1597/1597 [==============================] - 2s 1ms/step - loss: 2.6609 - accuracy: 0.2379 - val_loss: 2.6462 - val_accuracy: 0.2477\n",
      "Epoch 84/100\n",
      "1597/1597 [==============================] - 2s 1ms/step - loss: 2.6605 - accuracy: 0.2369 - val_loss: 2.6264 - val_accuracy: 0.2470\n",
      "Epoch 85/100\n",
      "1597/1597 [==============================] - 2s 1ms/step - loss: 2.6607 - accuracy: 0.2401 - val_loss: 2.6065 - val_accuracy: 0.2462\n",
      "Epoch 86/100\n",
      "1597/1597 [==============================] - 2s 2ms/step - loss: 2.6590 - accuracy: 0.2371 - val_loss: 2.5965 - val_accuracy: 0.2415\n",
      "Epoch 87/100\n",
      "1597/1597 [==============================] - 2s 2ms/step - loss: 2.6587 - accuracy: 0.2388 - val_loss: 2.6786 - val_accuracy: 0.2408\n",
      "Epoch 88/100\n",
      "1597/1597 [==============================] - 2s 1ms/step - loss: 2.6634 - accuracy: 0.2386 - val_loss: 2.6494 - val_accuracy: 0.2551\n",
      "Epoch 89/100\n",
      "1597/1597 [==============================] - 2s 2ms/step - loss: 2.6609 - accuracy: 0.2383 - val_loss: 2.6238 - val_accuracy: 0.2454\n",
      "Epoch 90/100\n",
      "1597/1597 [==============================] - 3s 2ms/step - loss: 2.6663 - accuracy: 0.2394 - val_loss: 2.6583 - val_accuracy: 0.2430\n",
      "Epoch 91/100\n",
      "1597/1597 [==============================] - 3s 2ms/step - loss: 2.6623 - accuracy: 0.2384 - val_loss: 2.7011 - val_accuracy: 0.2298\n",
      "Epoch 92/100\n",
      "1597/1597 [==============================] - 3s 2ms/step - loss: 2.6537 - accuracy: 0.2396 - val_loss: 2.6266 - val_accuracy: 0.2502\n",
      "Epoch 93/100\n",
      "1597/1597 [==============================] - 2s 2ms/step - loss: 2.6629 - accuracy: 0.2400 - val_loss: 2.6363 - val_accuracy: 0.2386\n",
      "Epoch 94/100\n",
      "1597/1597 [==============================] - 2s 1ms/step - loss: 2.6573 - accuracy: 0.2395 - val_loss: 2.6247 - val_accuracy: 0.2442\n",
      "Epoch 95/100\n",
      "1597/1597 [==============================] - 2s 2ms/step - loss: 2.6636 - accuracy: 0.2393 - val_loss: 2.5989 - val_accuracy: 0.2555\n",
      "Epoch 96/100\n",
      "1597/1597 [==============================] - 3s 2ms/step - loss: 2.6635 - accuracy: 0.2380 - val_loss: 2.6434 - val_accuracy: 0.2377\n",
      "Epoch 97/100\n",
      "1597/1597 [==============================] - 2s 2ms/step - loss: 2.6611 - accuracy: 0.2402 - val_loss: 2.6369 - val_accuracy: 0.2398\n",
      "Epoch 98/100\n",
      "1597/1597 [==============================] - 2s 1ms/step - loss: 2.6562 - accuracy: 0.2417 - val_loss: 2.6127 - val_accuracy: 0.2465\n",
      "Epoch 99/100\n",
      "1597/1597 [==============================] - 2s 1ms/step - loss: 2.6591 - accuracy: 0.2393 - val_loss: 2.6246 - val_accuracy: 0.2373\n",
      "Epoch 100/100\n",
      "1597/1597 [==============================] - 2s 1ms/step - loss: 2.6578 - accuracy: 0.2404 - val_loss: 2.6584 - val_accuracy: 0.2307\n"
     ]
    }
   ],
   "source": [
    "simple_nn = build_model_graph()\n",
    "simple_nn, simple_nn_history = fit_model(model=simple_nn, X=X, y=yy,\n",
    "                                         epochs=100, validation_data=(x_val, y_val), verbose=1)"
   ]
  },
  {
   "cell_type": "code",
   "execution_count": 158,
   "metadata": {},
   "outputs": [
    {
     "data": {
      "image/png": "[encoded data removed]",
      "text/plain": [
       "<Figure size 432x288 with 1 Axes>"
      ]
     },
     "metadata": {
      "image/png": {
       "height": 277,
       "width": 385
      },
      "needs_background": "light"
     },
     "output_type": "display_data"
    }
   ],
   "source": [
    "plot_metric(history=simple_nn_history, metric='loss')"
   ]
  },
  {
   "cell_type": "code",
   "execution_count": 159,
   "metadata": {},
   "outputs": [
    {
     "name": "stdout",
     "output_type": "stream",
     "text": [
      "Testing Accuracy: 20.91%\n"
     ]
    }
   ],
   "source": [
    "score = simple_nn.evaluate(x_test, y_test, verbose=0)\n",
    "print(\"Testing Accuracy: {0:.2%}\".format(score[1]))"
   ]
  },
  {
   "cell_type": "markdown",
   "metadata": {},
   "source": [
    "### Deep NN model"
   ]
  },
  {
   "cell_type": "code",
   "execution_count": 160,
   "metadata": {
    "scrolled": true
   },
   "outputs": [
    {
     "name": "stdout",
     "output_type": "stream",
     "text": [
      "Epoch 1/70\n",
      "1597/1597 [==============================] - 3s 2ms/step - loss: 2.6587 - accuracy: 0.2390 - val_loss: 2.5759 - val_accuracy: 0.2504\n",
      "Epoch 2/70\n",
      "1597/1597 [==============================] - 3s 2ms/step - loss: 2.6597 - accuracy: 0.2422 - val_loss: 2.6159 - val_accuracy: 0.2437\n",
      "Epoch 3/70\n",
      "1597/1597 [==============================] - 3s 2ms/step - loss: 2.6603 - accuracy: 0.2399 - val_loss: 2.6724 - val_accuracy: 0.2360\n",
      "Epoch 4/70\n",
      "1597/1597 [==============================] - 3s 2ms/step - loss: 2.6635 - accuracy: 0.2400 - val_loss: 2.5987 - val_accuracy: 0.2439\n",
      "Epoch 5/70\n",
      "1597/1597 [==============================] - 3s 2ms/step - loss: 2.6548 - accuracy: 0.2395 - val_loss: 2.5733 - val_accuracy: 0.2582\n",
      "Epoch 6/70\n",
      "1597/1597 [==============================] - 3s 2ms/step - loss: 2.6617 - accuracy: 0.2385 - val_loss: 2.6397 - val_accuracy: 0.2404\n",
      "Epoch 7/70\n",
      "1597/1597 [==============================] - 2s 2ms/step - loss: 2.6656 - accuracy: 0.2362 - val_loss: 2.6459 - val_accuracy: 0.2520\n",
      "Epoch 8/70\n",
      "1597/1597 [==============================] - 2s 2ms/step - loss: 2.6630 - accuracy: 0.2383 - val_loss: 2.6366 - val_accuracy: 0.2570\n",
      "Epoch 9/70\n",
      "1597/1597 [==============================] - 3s 2ms/step - loss: 2.6621 - accuracy: 0.2392 - val_loss: 2.6158 - val_accuracy: 0.2474\n",
      "Epoch 10/70\n",
      "1597/1597 [==============================] - 3s 2ms/step - loss: 2.6630 - accuracy: 0.2385 - val_loss: 2.7666 - val_accuracy: 0.2259\n",
      "Epoch 11/70\n",
      "1597/1597 [==============================] - 3s 2ms/step - loss: 2.6626 - accuracy: 0.2374 - val_loss: 2.6236 - val_accuracy: 0.2408\n",
      "Epoch 12/70\n",
      "1597/1597 [==============================] - 3s 2ms/step - loss: 2.6557 - accuracy: 0.2413 - val_loss: 2.6283 - val_accuracy: 0.2337\n",
      "Epoch 13/70\n",
      "1597/1597 [==============================] - 3s 2ms/step - loss: 2.6599 - accuracy: 0.2394 - val_loss: 2.5887 - val_accuracy: 0.2514\n",
      "Epoch 14/70\n",
      "1597/1597 [==============================] - 3s 2ms/step - loss: 2.6596 - accuracy: 0.2368 - val_loss: 2.6334 - val_accuracy: 0.2538\n",
      "Epoch 15/70\n",
      "1597/1597 [==============================] - 3s 2ms/step - loss: 2.6621 - accuracy: 0.2374 - val_loss: 2.6336 - val_accuracy: 0.2468\n",
      "Epoch 16/70\n",
      "1597/1597 [==============================] - 3s 2ms/step - loss: 2.6566 - accuracy: 0.2402 - val_loss: 2.6509 - val_accuracy: 0.2386\n",
      "Epoch 17/70\n",
      "1597/1597 [==============================] - 3s 2ms/step - loss: 2.6574 - accuracy: 0.2413 - val_loss: 2.6498 - val_accuracy: 0.2349\n",
      "Epoch 18/70\n",
      "1597/1597 [==============================] - 3s 2ms/step - loss: 2.6588 - accuracy: 0.2382 - val_loss: 2.6558 - val_accuracy: 0.2337\n",
      "Epoch 19/70\n",
      "1597/1597 [==============================] - 3s 2ms/step - loss: 2.6585 - accuracy: 0.2413 - val_loss: 2.6625 - val_accuracy: 0.2479\n",
      "Epoch 20/70\n",
      "1597/1597 [==============================] - 4s 2ms/step - loss: 2.6605 - accuracy: 0.2393 - val_loss: 2.6267 - val_accuracy: 0.2395\n",
      "Epoch 21/70\n",
      "1597/1597 [==============================] - 4s 3ms/step - loss: 2.6585 - accuracy: 0.2374 - val_loss: 2.6377 - val_accuracy: 0.2457\n",
      "Epoch 22/70\n",
      "1597/1597 [==============================] - 4s 3ms/step - loss: 2.6592 - accuracy: 0.2370 - val_loss: 2.6291 - val_accuracy: 0.2412\n",
      "Epoch 23/70\n",
      "1597/1597 [==============================] - 4s 3ms/step - loss: 2.6577 - accuracy: 0.2417 - val_loss: 2.6295 - val_accuracy: 0.2430\n",
      "Epoch 24/70\n",
      "1597/1597 [==============================] - 4s 2ms/step - loss: 2.6592 - accuracy: 0.2411 - val_loss: 2.6889 - val_accuracy: 0.2282\n",
      "Epoch 25/70\n",
      "1597/1597 [==============================] - 3s 2ms/step - loss: 2.6604 - accuracy: 0.2415 - val_loss: 2.6761 - val_accuracy: 0.2451\n",
      "Epoch 26/70\n",
      "1597/1597 [==============================] - 4s 2ms/step - loss: 2.6631 - accuracy: 0.2375 - val_loss: 2.6040 - val_accuracy: 0.2473\n",
      "Epoch 27/70\n",
      "1597/1597 [==============================] - 4s 3ms/step - loss: 2.6650 - accuracy: 0.2381 - val_loss: 2.6582 - val_accuracy: 0.2342\n",
      "Epoch 28/70\n",
      "1597/1597 [==============================] - 3s 2ms/step - loss: 2.6634 - accuracy: 0.2380 - val_loss: 2.6124 - val_accuracy: 0.2540\n",
      "Epoch 29/70\n",
      "1597/1597 [==============================] - 3s 2ms/step - loss: 2.6529 - accuracy: 0.2421 - val_loss: 2.6414 - val_accuracy: 0.2370\n",
      "Epoch 30/70\n",
      "1597/1597 [==============================] - 3s 2ms/step - loss: 2.6620 - accuracy: 0.2373 - val_loss: 2.6074 - val_accuracy: 0.2480\n",
      "Epoch 31/70\n",
      "1597/1597 [==============================] - 3s 2ms/step - loss: 2.6571 - accuracy: 0.2413 - val_loss: 2.6945 - val_accuracy: 0.2439\n",
      "Epoch 32/70\n",
      "1597/1597 [==============================] - 3s 2ms/step - loss: 2.6563 - accuracy: 0.2397 - val_loss: 2.6176 - val_accuracy: 0.2479\n",
      "Epoch 33/70\n",
      "1597/1597 [==============================] - 3s 2ms/step - loss: 2.6640 - accuracy: 0.2357 - val_loss: 2.6470 - val_accuracy: 0.2318\n",
      "Epoch 34/70\n",
      "1597/1597 [==============================] - 3s 2ms/step - loss: 2.6621 - accuracy: 0.2390 - val_loss: 2.6210 - val_accuracy: 0.2376\n",
      "Epoch 35/70\n",
      "1597/1597 [==============================] - 3s 2ms/step - loss: 2.6594 - accuracy: 0.2381 - val_loss: 2.7326 - val_accuracy: 0.2373\n",
      "Epoch 36/70\n",
      "1597/1597 [==============================] - 3s 2ms/step - loss: 2.6588 - accuracy: 0.2409 - val_loss: 2.6382 - val_accuracy: 0.2461\n",
      "Epoch 37/70\n",
      "1597/1597 [==============================] - 3s 2ms/step - loss: 2.6642 - accuracy: 0.2383 - val_loss: 2.5852 - val_accuracy: 0.2536\n",
      "Epoch 38/70\n",
      "1597/1597 [==============================] - 3s 2ms/step - loss: 2.6623 - accuracy: 0.2400 - val_loss: 2.6563 - val_accuracy: 0.2365\n",
      "Epoch 39/70\n",
      "1597/1597 [==============================] - 3s 2ms/step - loss: 2.6615 - accuracy: 0.2406 - val_loss: 2.6093 - val_accuracy: 0.2415\n",
      "Epoch 40/70\n",
      "1597/1597 [==============================] - 3s 2ms/step - loss: 2.6563 - accuracy: 0.2389 - val_loss: 2.6169 - val_accuracy: 0.2489\n",
      "Epoch 41/70\n",
      "1597/1597 [==============================] - 3s 2ms/step - loss: 2.6562 - accuracy: 0.2394 - val_loss: 2.5951 - val_accuracy: 0.2385\n",
      "Epoch 42/70\n",
      "1597/1597 [==============================] - 3s 2ms/step - loss: 2.6562 - accuracy: 0.2397 - val_loss: 2.7053 - val_accuracy: 0.2345\n",
      "Epoch 43/70\n",
      "1597/1597 [==============================] - 3s 2ms/step - loss: 2.6678 - accuracy: 0.2373 - val_loss: 2.6268 - val_accuracy: 0.2377\n",
      "Epoch 44/70\n",
      "1597/1597 [==============================] - 3s 2ms/step - loss: 2.6587 - accuracy: 0.2396 - val_loss: 2.6501 - val_accuracy: 0.2311\n",
      "Epoch 45/70\n",
      "1597/1597 [==============================] - 3s 2ms/step - loss: 2.6605 - accuracy: 0.2383 - val_loss: 2.6251 - val_accuracy: 0.2498\n",
      "Epoch 46/70\n",
      "1597/1597 [==============================] - 3s 2ms/step - loss: 2.6596 - accuracy: 0.2398 - val_loss: 2.6604 - val_accuracy: 0.2460\n",
      "Epoch 47/70\n",
      "1597/1597 [==============================] - 3s 2ms/step - loss: 2.6569 - accuracy: 0.2418 - val_loss: 2.6268 - val_accuracy: 0.2598\n",
      "Epoch 48/70\n",
      "1597/1597 [==============================] - 3s 2ms/step - loss: 2.6554 - accuracy: 0.2422 - val_loss: 2.6166 - val_accuracy: 0.2518\n",
      "Epoch 49/70\n",
      "1597/1597 [==============================] - 3s 2ms/step - loss: 2.6603 - accuracy: 0.2384 - val_loss: 2.6085 - val_accuracy: 0.2427\n",
      "Epoch 50/70\n",
      "1597/1597 [==============================] - 3s 2ms/step - loss: 2.6568 - accuracy: 0.2404 - val_loss: 2.6600 - val_accuracy: 0.2379\n",
      "Epoch 51/70\n",
      "1597/1597 [==============================] - 3s 2ms/step - loss: 2.6584 - accuracy: 0.2389 - val_loss: 2.7100 - val_accuracy: 0.2336\n",
      "Epoch 52/70\n",
      "1597/1597 [==============================] - 3s 2ms/step - loss: 2.6606 - accuracy: 0.2392 - val_loss: 2.6416 - val_accuracy: 0.2387\n",
      "Epoch 53/70\n",
      "1597/1597 [==============================] - 3s 2ms/step - loss: 2.6617 - accuracy: 0.2380 - val_loss: 2.5905 - val_accuracy: 0.2514\n",
      "Epoch 54/70\n",
      "1597/1597 [==============================] - 3s 2ms/step - loss: 2.6607 - accuracy: 0.2412 - val_loss: 2.5940 - val_accuracy: 0.2548\n",
      "Epoch 55/70\n",
      "1597/1597 [==============================] - 3s 2ms/step - loss: 2.6600 - accuracy: 0.2371 - val_loss: 2.5926 - val_accuracy: 0.2474\n",
      "Epoch 56/70\n",
      "1597/1597 [==============================] - 3s 2ms/step - loss: 2.6576 - accuracy: 0.2385 - val_loss: 2.6643 - val_accuracy: 0.2370\n",
      "Epoch 57/70\n"
     ]
    },
    {
     "name": "stdout",
     "output_type": "stream",
     "text": [
      "1597/1597 [==============================] - 3s 2ms/step - loss: 2.6653 - accuracy: 0.2363 - val_loss: 2.7510 - val_accuracy: 0.2245\n",
      "Epoch 58/70\n",
      "1597/1597 [==============================] - 3s 2ms/step - loss: 2.6577 - accuracy: 0.2426 - val_loss: 2.6033 - val_accuracy: 0.2476\n",
      "Epoch 59/70\n",
      "1597/1597 [==============================] - 3s 2ms/step - loss: 2.6543 - accuracy: 0.2405 - val_loss: 2.5927 - val_accuracy: 0.2563\n",
      "Epoch 60/70\n",
      "1597/1597 [==============================] - 3s 2ms/step - loss: 2.6635 - accuracy: 0.2416 - val_loss: 2.6135 - val_accuracy: 0.2586\n",
      "Epoch 61/70\n",
      "1597/1597 [==============================] - 3s 2ms/step - loss: 2.6583 - accuracy: 0.2418 - val_loss: 2.6480 - val_accuracy: 0.2482\n",
      "Epoch 62/70\n",
      "1597/1597 [==============================] - 3s 2ms/step - loss: 2.6583 - accuracy: 0.2400 - val_loss: 2.6438 - val_accuracy: 0.2358\n",
      "Epoch 63/70\n",
      "1597/1597 [==============================] - 3s 2ms/step - loss: 2.6588 - accuracy: 0.2395 - val_loss: 2.6028 - val_accuracy: 0.2507\n",
      "Epoch 64/70\n",
      "1597/1597 [==============================] - 3s 2ms/step - loss: 2.6569 - accuracy: 0.2381 - val_loss: 2.6754 - val_accuracy: 0.2399\n",
      "Epoch 65/70\n",
      "1597/1597 [==============================] - 3s 2ms/step - loss: 2.6600 - accuracy: 0.2383 - val_loss: 2.6901 - val_accuracy: 0.2314\n",
      "Epoch 66/70\n",
      "1597/1597 [==============================] - 3s 2ms/step - loss: 2.6579 - accuracy: 0.2393 - val_loss: 2.6077 - val_accuracy: 0.2420\n",
      "Epoch 67/70\n",
      "1597/1597 [==============================] - 3s 2ms/step - loss: 2.6648 - accuracy: 0.2372 - val_loss: 2.6451 - val_accuracy: 0.2337\n",
      "Epoch 68/70\n",
      "1597/1597 [==============================] - 2s 2ms/step - loss: 2.6626 - accuracy: 0.2379 - val_loss: 2.6293 - val_accuracy: 0.2360\n",
      "Epoch 69/70\n",
      "1597/1597 [==============================] - 2s 2ms/step - loss: 2.6572 - accuracy: 0.2426 - val_loss: 2.6313 - val_accuracy: 0.2460\n",
      "Epoch 70/70\n",
      "1597/1597 [==============================] - 3s 2ms/step - loss: 2.6575 - accuracy: 0.2394 - val_loss: 2.6271 - val_accuracy: 0.2417\n"
     ]
    }
   ],
   "source": [
    "deep_nn = deep_nn_model()\n",
    "deep_nn, deep_nn_history = fit_model(model=simple_nn, X=X, y=yy,\n",
    "                                         epochs=70, validation_data=(x_val, y_val), verbose=1)"
   ]
  },
  {
   "cell_type": "code",
   "execution_count": 161,
   "metadata": {},
   "outputs": [
    {
     "data": {
      "image/png": "[encoded data removed]",
      "text/plain": [
       "<Figure size 432x288 with 1 Axes>"
      ]
     },
     "metadata": {
      "image/png": {
       "height": 277,
       "width": 385
      },
      "needs_background": "light"
     },
     "output_type": "display_data"
    }
   ],
   "source": [
    "plot_metric(history=deep_nn_history, metric='loss')"
   ]
  },
  {
   "cell_type": "code",
   "execution_count": 162,
   "metadata": {},
   "outputs": [
    {
     "name": "stdout",
     "output_type": "stream",
     "text": [
      "Testing Accuracy: 22.47%\n"
     ]
    }
   ],
   "source": [
    "score = deep_nn.evaluate(x_test, y_test, verbose=0)\n",
    "print(\"Testing Accuracy: {0:.2%}\".format(score[1]))"
   ]
  },
  {
   "cell_type": "markdown",
   "metadata": {},
   "source": [
    "## Bigger NN model "
   ]
  },
  {
   "cell_type": "code",
   "execution_count": 163,
   "metadata": {
    "scrolled": true
   },
   "outputs": [
    {
     "name": "stdout",
     "output_type": "stream",
     "text": [
      "Epoch 1/70\n",
      "1597/1597 [==============================] - 3s 2ms/step - loss: 2.6654 - accuracy: 0.2396 - val_loss: 2.6882 - val_accuracy: 0.2402\n",
      "Epoch 2/70\n",
      "1597/1597 [==============================] - 3s 2ms/step - loss: 2.6600 - accuracy: 0.2398 - val_loss: 2.6400 - val_accuracy: 0.2487\n",
      "Epoch 3/70\n",
      "1597/1597 [==============================] - 5s 3ms/step - loss: 2.6578 - accuracy: 0.2391 - val_loss: 2.6302 - val_accuracy: 0.2502\n",
      "Epoch 4/70\n",
      "1597/1597 [==============================] - 3s 2ms/step - loss: 2.6623 - accuracy: 0.2403 - val_loss: 2.6338 - val_accuracy: 0.2436\n",
      "Epoch 5/70\n",
      "1597/1597 [==============================] - 3s 2ms/step - loss: 2.6619 - accuracy: 0.2389 - val_loss: 2.5892 - val_accuracy: 0.2580\n",
      "Epoch 6/70\n",
      "1597/1597 [==============================] - 2s 1ms/step - loss: 2.6643 - accuracy: 0.2404 - val_loss: 2.6363 - val_accuracy: 0.2476\n",
      "Epoch 7/70\n",
      "1597/1597 [==============================] - 2s 1ms/step - loss: 2.6606 - accuracy: 0.2387 - val_loss: 2.6378 - val_accuracy: 0.2362\n",
      "Epoch 8/70\n",
      "1597/1597 [==============================] - 2s 1ms/step - loss: 2.6635 - accuracy: 0.2374 - val_loss: 2.6635 - val_accuracy: 0.2339\n",
      "Epoch 9/70\n",
      "1597/1597 [==============================] - 2s 1ms/step - loss: 2.6599 - accuracy: 0.2403 - val_loss: 2.5794 - val_accuracy: 0.2474\n",
      "Epoch 10/70\n",
      "1597/1597 [==============================] - 273s 171ms/step - loss: 2.6614 - accuracy: 0.2381 - val_loss: 2.6165 - val_accuracy: 0.2465\n",
      "Epoch 11/70\n",
      "1597/1597 [==============================] - 4s 3ms/step - loss: 2.6599 - accuracy: 0.2399 - val_loss: 2.6820 - val_accuracy: 0.2265\n",
      "Epoch 12/70\n",
      "1597/1597 [==============================] - 3s 2ms/step - loss: 2.6538 - accuracy: 0.2416 - val_loss: 2.7012 - val_accuracy: 0.2293\n",
      "Epoch 13/70\n",
      "1597/1597 [==============================] - 3s 2ms/step - loss: 2.6611 - accuracy: 0.2392 - val_loss: 2.6793 - val_accuracy: 0.2429\n",
      "Epoch 14/70\n",
      "1597/1597 [==============================] - 3s 2ms/step - loss: 2.6574 - accuracy: 0.2401 - val_loss: 2.5807 - val_accuracy: 0.2548\n",
      "Epoch 15/70\n",
      "1597/1597 [==============================] - 3s 2ms/step - loss: 2.6611 - accuracy: 0.2396 - val_loss: 2.7061 - val_accuracy: 0.2336\n",
      "Epoch 16/70\n",
      "1597/1597 [==============================] - 2s 2ms/step - loss: 2.6642 - accuracy: 0.2381 - val_loss: 2.6739 - val_accuracy: 0.2335\n",
      "Epoch 17/70\n",
      "1597/1597 [==============================] - 3s 2ms/step - loss: 2.6549 - accuracy: 0.2425 - val_loss: 2.6306 - val_accuracy: 0.2543\n",
      "Epoch 18/70\n",
      "1597/1597 [==============================] - 2s 2ms/step - loss: 2.6592 - accuracy: 0.2383 - val_loss: 2.6571 - val_accuracy: 0.2483\n",
      "Epoch 19/70\n",
      "1597/1597 [==============================] - 2s 1ms/step - loss: 2.6575 - accuracy: 0.2403 - val_loss: 2.6712 - val_accuracy: 0.2399\n",
      "Epoch 20/70\n",
      "1597/1597 [==============================] - 2s 1ms/step - loss: 2.6606 - accuracy: 0.2404 - val_loss: 2.6820 - val_accuracy: 0.2387\n",
      "Epoch 21/70\n",
      "1597/1597 [==============================] - 2s 1ms/step - loss: 2.6582 - accuracy: 0.2394 - val_loss: 2.6639 - val_accuracy: 0.2333\n",
      "Epoch 22/70\n",
      "1597/1597 [==============================] - 2s 1ms/step - loss: 2.6577 - accuracy: 0.2401 - val_loss: 2.6411 - val_accuracy: 0.2449\n",
      "Epoch 23/70\n",
      "1597/1597 [==============================] - 2s 1ms/step - loss: 2.6593 - accuracy: 0.2394 - val_loss: 2.6206 - val_accuracy: 0.2471\n",
      "Epoch 24/70\n",
      "1597/1597 [==============================] - 2s 2ms/step - loss: 2.6563 - accuracy: 0.2395 - val_loss: 2.5823 - val_accuracy: 0.2552\n",
      "Epoch 25/70\n",
      "1597/1597 [==============================] - 2s 2ms/step - loss: 2.6608 - accuracy: 0.2404 - val_loss: 2.6295 - val_accuracy: 0.2433\n",
      "Epoch 26/70\n",
      "1597/1597 [==============================] - 3s 2ms/step - loss: 2.6595 - accuracy: 0.2389 - val_loss: 2.5690 - val_accuracy: 0.2607\n",
      "Epoch 27/70\n",
      "1597/1597 [==============================] - 2s 1ms/step - loss: 2.6600 - accuracy: 0.2369 - val_loss: 2.6387 - val_accuracy: 0.2511\n",
      "Epoch 28/70\n",
      "1597/1597 [==============================] - 2s 1ms/step - loss: 2.6592 - accuracy: 0.2376 - val_loss: 2.6051 - val_accuracy: 0.2579\n",
      "Epoch 29/70\n",
      "1597/1597 [==============================] - 3s 2ms/step - loss: 2.6620 - accuracy: 0.2384 - val_loss: 2.6373 - val_accuracy: 0.2337\n",
      "Epoch 30/70\n",
      "1597/1597 [==============================] - 2s 2ms/step - loss: 2.6600 - accuracy: 0.2387 - val_loss: 2.6011 - val_accuracy: 0.2518\n",
      "Epoch 31/70\n",
      "1597/1597 [==============================] - 3s 2ms/step - loss: 2.6607 - accuracy: 0.2408 - val_loss: 2.6548 - val_accuracy: 0.2355\n",
      "Epoch 32/70\n",
      "1597/1597 [==============================] - 3s 2ms/step - loss: 2.6574 - accuracy: 0.2393 - val_loss: 2.5994 - val_accuracy: 0.2520\n",
      "Epoch 33/70\n",
      "1597/1597 [==============================] - 3s 2ms/step - loss: 2.6577 - accuracy: 0.2413 - val_loss: 2.6413 - val_accuracy: 0.2452\n",
      "Epoch 34/70\n",
      "1597/1597 [==============================] - 2s 1ms/step - loss: 2.6621 - accuracy: 0.2389 - val_loss: 2.6361 - val_accuracy: 0.2515\n",
      "Epoch 35/70\n",
      "1597/1597 [==============================] - 2s 1ms/step - loss: 2.6588 - accuracy: 0.2408 - val_loss: 2.6386 - val_accuracy: 0.2526\n",
      "Epoch 36/70\n",
      "1597/1597 [==============================] - 2s 1ms/step - loss: 2.6588 - accuracy: 0.2392 - val_loss: 2.7652 - val_accuracy: 0.2054\n",
      "Epoch 37/70\n",
      "1597/1597 [==============================] - 2s 1ms/step - loss: 2.6637 - accuracy: 0.2395 - val_loss: 2.7372 - val_accuracy: 0.2254\n",
      "Epoch 38/70\n",
      "1597/1597 [==============================] - 2s 1ms/step - loss: 2.6581 - accuracy: 0.2397 - val_loss: 2.6100 - val_accuracy: 0.2408\n",
      "Epoch 39/70\n",
      "1597/1597 [==============================] - 2s 1ms/step - loss: 2.6574 - accuracy: 0.2404 - val_loss: 2.6726 - val_accuracy: 0.2277\n",
      "Epoch 40/70\n",
      "1597/1597 [==============================] - 2s 1ms/step - loss: 2.6588 - accuracy: 0.2397 - val_loss: 2.6259 - val_accuracy: 0.2513\n",
      "Epoch 41/70\n",
      "1597/1597 [==============================] - 2s 1ms/step - loss: 2.6625 - accuracy: 0.2393 - val_loss: 2.6456 - val_accuracy: 0.2336\n",
      "Epoch 42/70\n",
      "1597/1597 [==============================] - 2s 1ms/step - loss: 2.6562 - accuracy: 0.2396 - val_loss: 2.6585 - val_accuracy: 0.2290\n",
      "Epoch 43/70\n",
      "1597/1597 [==============================] - 2s 1ms/step - loss: 2.6570 - accuracy: 0.2389 - val_loss: 2.6240 - val_accuracy: 0.2505\n",
      "Epoch 44/70\n",
      "1597/1597 [==============================] - 2s 1ms/step - loss: 2.6596 - accuracy: 0.2389 - val_loss: 2.6447 - val_accuracy: 0.2502\n",
      "Epoch 45/70\n",
      "1597/1597 [==============================] - 2s 1ms/step - loss: 2.6615 - accuracy: 0.2399 - val_loss: 2.6521 - val_accuracy: 0.2361\n",
      "Epoch 46/70\n",
      "1597/1597 [==============================] - 2s 1ms/step - loss: 2.6561 - accuracy: 0.2389 - val_loss: 2.6746 - val_accuracy: 0.2385\n",
      "Epoch 47/70\n",
      "1597/1597 [==============================] - 2s 2ms/step - loss: 2.6640 - accuracy: 0.2392 - val_loss: 2.5990 - val_accuracy: 0.2483\n",
      "Epoch 48/70\n",
      "1597/1597 [==============================] - 2s 1ms/step - loss: 2.6649 - accuracy: 0.2373 - val_loss: 2.6109 - val_accuracy: 0.2333\n",
      "Epoch 49/70\n",
      "1597/1597 [==============================] - 2s 1ms/step - loss: 2.6600 - accuracy: 0.2367 - val_loss: 2.6274 - val_accuracy: 0.2551\n",
      "Epoch 50/70\n",
      "1597/1597 [==============================] - 2s 1ms/step - loss: 2.6580 - accuracy: 0.2402 - val_loss: 2.6405 - val_accuracy: 0.2370\n",
      "Epoch 51/70\n",
      "1597/1597 [==============================] - 2s 1ms/step - loss: 2.6581 - accuracy: 0.2400 - val_loss: 2.6721 - val_accuracy: 0.2330\n",
      "Epoch 52/70\n",
      "1597/1597 [==============================] - 2s 1ms/step - loss: 2.6568 - accuracy: 0.2400 - val_loss: 2.6064 - val_accuracy: 0.2460\n",
      "Epoch 53/70\n",
      "1597/1597 [==============================] - 2s 1ms/step - loss: 2.6615 - accuracy: 0.2374 - val_loss: 2.5573 - val_accuracy: 0.2605\n",
      "Epoch 54/70\n",
      "1597/1597 [==============================] - 2s 1ms/step - loss: 2.6575 - accuracy: 0.2399 - val_loss: 2.6674 - val_accuracy: 0.2308\n",
      "Epoch 55/70\n",
      "1597/1597 [==============================] - 2s 1ms/step - loss: 2.6621 - accuracy: 0.2389 - val_loss: 2.5954 - val_accuracy: 0.2561\n",
      "Epoch 56/70\n",
      "1597/1597 [==============================] - 2s 1ms/step - loss: 2.6574 - accuracy: 0.2394 - val_loss: 2.5831 - val_accuracy: 0.2449\n",
      "Epoch 57/70\n"
     ]
    },
    {
     "name": "stdout",
     "output_type": "stream",
     "text": [
      "1597/1597 [==============================] - 2s 1ms/step - loss: 2.6620 - accuracy: 0.2383 - val_loss: 2.6641 - val_accuracy: 0.2234\n",
      "Epoch 58/70\n",
      "1597/1597 [==============================] - 2s 1ms/step - loss: 2.6622 - accuracy: 0.2393 - val_loss: 2.6258 - val_accuracy: 0.2514\n",
      "Epoch 59/70\n",
      "1597/1597 [==============================] - 2s 1ms/step - loss: 2.6572 - accuracy: 0.2406 - val_loss: 2.7538 - val_accuracy: 0.2223\n",
      "Epoch 60/70\n",
      "1597/1597 [==============================] - 2s 1ms/step - loss: 2.6566 - accuracy: 0.2387 - val_loss: 2.6496 - val_accuracy: 0.2399\n",
      "Epoch 61/70\n",
      "1597/1597 [==============================] - 2s 1ms/step - loss: 2.6623 - accuracy: 0.2386 - val_loss: 2.6597 - val_accuracy: 0.2407\n",
      "Epoch 62/70\n",
      "1597/1597 [==============================] - 2s 1ms/step - loss: 2.6546 - accuracy: 0.2433 - val_loss: 2.5732 - val_accuracy: 0.2623\n",
      "Epoch 63/70\n",
      "1597/1597 [==============================] - 2s 1ms/step - loss: 2.6616 - accuracy: 0.2379 - val_loss: 2.6566 - val_accuracy: 0.2535\n",
      "Epoch 64/70\n",
      "1597/1597 [==============================] - 2s 1ms/step - loss: 2.6631 - accuracy: 0.2400 - val_loss: 2.7123 - val_accuracy: 0.2473\n",
      "Epoch 65/70\n",
      "1597/1597 [==============================] - 2s 1ms/step - loss: 2.6645 - accuracy: 0.2403 - val_loss: 2.5949 - val_accuracy: 0.2542\n",
      "Epoch 66/70\n",
      "1597/1597 [==============================] - 2s 1ms/step - loss: 2.6582 - accuracy: 0.2392 - val_loss: 2.6472 - val_accuracy: 0.2442\n",
      "Epoch 67/70\n",
      "1597/1597 [==============================] - 2s 1ms/step - loss: 2.6633 - accuracy: 0.2394 - val_loss: 2.6041 - val_accuracy: 0.2504\n",
      "Epoch 68/70\n",
      "1597/1597 [==============================] - 2s 1ms/step - loss: 2.6583 - accuracy: 0.2407 - val_loss: 2.6333 - val_accuracy: 0.2485\n",
      "Epoch 69/70\n",
      "1597/1597 [==============================] - 2s 1ms/step - loss: 2.6599 - accuracy: 0.2404 - val_loss: 2.6377 - val_accuracy: 0.2440\n",
      "Epoch 70/70\n",
      "1597/1597 [==============================] - 2s 1ms/step - loss: 2.6586 - accuracy: 0.2387 - val_loss: 2.6812 - val_accuracy: 0.2305\n"
     ]
    }
   ],
   "source": [
    "big_nn = big_nn_model()\n",
    "big_nn, big_nn_history = fit_model(model=simple_nn, X=X, y=yy,\n",
    "                                         epochs=70, validation_data=(x_val, y_val), verbose=1)"
   ]
  },
  {
   "cell_type": "code",
   "execution_count": 164,
   "metadata": {
    "scrolled": true
   },
   "outputs": [
    {
     "data": {
      "image/png": "[encoded data removed]",
      "text/plain": [
       "<Figure size 432x288 with 1 Axes>"
      ]
     },
     "metadata": {
      "image/png": {
       "height": 277,
       "width": 385
      },
      "needs_background": "light"
     },
     "output_type": "display_data"
    }
   ],
   "source": [
    "plot_metric(history=big_nn_history, metric='loss')"
   ]
  },
  {
   "cell_type": "code",
   "execution_count": 165,
   "metadata": {},
   "outputs": [
    {
     "name": "stdout",
     "output_type": "stream",
     "text": [
      "Testing Accuracy: 21.99%\n"
     ]
    }
   ],
   "source": [
    "score = big_nn.evaluate(x_test, y_test, verbose=0)\n",
    "print(\"Testing Accuracy: {0:.2%}\".format(score[1]))"
   ]
  },
  {
   "cell_type": "code",
   "execution_count": 166,
   "metadata": {},
   "outputs": [],
   "source": [
    "y_deep_nn_pred = deep_nn.predict(x_test)\n",
    "y_big_nn_pred = big_nn.predict(x_test)"
   ]
  },
  {
   "cell_type": "code",
   "execution_count": 167,
   "metadata": {},
   "outputs": [
    {
     "data": {
      "text/plain": [
       "array([28.71, 30.73, 34.57, 34.06, 32.98, 22.03, 35.29, 33.85, 31.  ,\n",
       "       29.54, 35.19, 32.3 , 30.41, 29.04, 30.31, 36.38, 33.33, 30.97,\n",
       "       31.84, 30.85, 25.9 , 27.74, 35.24, 24.27, 21.87, 26.72, 34.46,\n",
       "       35.67, 26.47, 28.93], dtype=float32)"
      ]
     },
     "execution_count": 167,
     "metadata": {},
     "output_type": "execute_result"
    }
   ],
   "source": [
    "(y_deep_nn_pred[0]).round(2)"
   ]
  },
  {
   "cell_type": "code",
   "execution_count": 168,
   "metadata": {},
   "outputs": [
    {
     "data": {
      "text/plain": [
       "array([1., 0., 0., 0., 0., 0., 0., 0., 0., 0., 0., 0., 0., 0., 0., 0., 0.,\n",
       "       0., 0., 0., 0., 0., 0., 0., 0., 0., 0., 0., 0., 0.], dtype=float32)"
      ]
     },
     "execution_count": 168,
     "metadata": {},
     "output_type": "execute_result"
    }
   ],
   "source": [
    "y_test[0]"
   ]
  },
  {
   "cell_type": "code",
   "execution_count": null,
   "metadata": {},
   "outputs": [],
   "source": []
  }
 ],
 "metadata": {
  "kernelspec": {
   "display_name": "general",
   "language": "python",
   "name": "general"
  },
  "language_info": {
   "codemirror_mode": {
    "name": "ipython",
    "version": 3
   },
   "file_extension": ".py",
   "mimetype": "text/x-python",
   "name": "python",
   "nbconvert_exporter": "python",
   "pygments_lexer": "ipython3",
   "version": "3.8.2"
  }
 },
 "nbformat": 4,
 "nbformat_minor": 4
}

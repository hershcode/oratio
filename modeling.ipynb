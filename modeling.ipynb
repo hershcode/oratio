{
 "cells": [
  {
   "cell_type": "code",
   "execution_count": 1,
   "metadata": {},
   "outputs": [],
   "source": [
    "import os \n",
    "import sys\n",
    "\n",
    "import pandas as pd\n",
    "import numpy as np\n",
    "import librosa\n",
    "import librosa.display\n",
    "import matplotlib.pyplot as plt\n",
    "import IPython.display as ipd\n",
    "\n",
    "from scipy.io import wavfile as wav\n",
    "from sklearn import metrics \n",
    "from sklearn.preprocessing import LabelEncoder\n",
    "from sklearn.model_selection import train_test_split \n",
    "from keras.models import Sequential\n",
    "from keras.layers import Dense, Dropout, Activation\n",
    "from keras.optimizers import Adam\n",
    "from keras.utils import to_categorical\n",
    "\n",
    "%matplotlib inline\n",
    "%config InlineBackend.figure_format='retina'"
   ]
  },
  {
   "cell_type": "code",
   "execution_count": 2,
   "metadata": {},
   "outputs": [],
   "source": [
    "PATH = os.getcwd() + '/speech_commands_v0.01/'"
   ]
  },
  {
   "cell_type": "code",
   "execution_count": 3,
   "metadata": {},
   "outputs": [],
   "source": [
    "def get_directory_contents(path):\n",
    "    return os.listdir(path)\n",
    "\n",
    "def open_file(filename):\n",
    "    \n",
    "    f = open(filename)\n",
    "    return f.read().splitlines()\n",
    "\n",
    "def compile_dataset(folders):\n",
    "    \n",
    "    total_words = []\n",
    "    for folder in folders:\n",
    "        words = get_directory_contents(path=PATH+folder)\n",
    "        words = [folder+'/'+word for word in words]\n",
    "        total_words = total_words + words\n",
    "    \n",
    "    dataset = create_df(words=total_words)\n",
    "                           \n",
    "    return dataset\n",
    "\n",
    "def create_df(words):\n",
    "    \n",
    "    data = pd.DataFrame({'recordings':words})\n",
    "\n",
    "    data['word'] = data['recordings'].str.split('/').str[0]\n",
    "    data['speaker_id'] = data['recordings'].str.split('/').str[1]\n",
    "    data['speaker_id'] =data['speaker_id'].str.split('_').str[0]\n",
    "    \n",
    "    return data\n",
    "\n",
    "def summary(data):\n",
    "    \n",
    "    summary_df = pd.DataFrame()\n",
    "    summary_df['total_recordings'] = [data.shape[0]]\n",
    "    summary_df['total_speakers'] = len(data['speaker_id'].unique())\n",
    "    summary_df['total_words'] = len(data['word'].unique())\n",
    "    \n",
    "    return summary_df\n",
    "\n",
    "def word_distribution():\n",
    "    \n",
    "    word_count = data['word'].value_counts()\n",
    "    ax = word_count.plot(kind='bar', figsize=(8,4), alpha=0.5)\n",
    "    plt.show()"
   ]
  },
  {
   "cell_type": "code",
   "execution_count": 4,
   "metadata": {},
   "outputs": [],
   "source": [
    "remove_words = [\n",
    "    '.DS_Store', 'validation_list.txt', 'LICENSE',\n",
    "    '_background_noise_', 'README.md', 'testing_list.txt'\n",
    "]\n",
    "\n",
    "names = get_directory_contents(path=PATH)\n",
    "names = [word for word in names if word not in remove_words]"
   ]
  },
  {
   "cell_type": "code",
   "execution_count": 11,
   "metadata": {},
   "outputs": [],
   "source": [
    "val_list = open_file(filename=PATH+'validation_list.txt')\n",
    "val_df = create_df(words=val_list)\n",
    "test_list = open_file(filename=PATH+'testing_list.txt')\n",
    "test_df = create_df(words=test_list)\n",
    "total_df = compile_dataset(folders=names)\n",
    "\n",
    "training_df = total_df[~total_df['recordings'].isin(val_df['recordings'])]\n",
    "training_df = training_df[~training_df['recordings'].isin(test_df['recordings'])]"
   ]
  },
  {
   "cell_type": "code",
   "execution_count": 26,
   "metadata": {},
   "outputs": [
    {
     "data": {
      "text/html": [
       "<div>\n",
       "<style scoped>\n",
       "    .dataframe tbody tr th:only-of-type {\n",
       "        vertical-align: middle;\n",
       "    }\n",
       "\n",
       "    .dataframe tbody tr th {\n",
       "        vertical-align: top;\n",
       "    }\n",
       "\n",
       "    .dataframe thead th {\n",
       "        text-align: right;\n",
       "    }\n",
       "</style>\n",
       "<table border=\"1\" class=\"dataframe\">\n",
       "  <thead>\n",
       "    <tr style=\"text-align: right;\">\n",
       "      <th></th>\n",
       "      <th>recordings</th>\n",
       "      <th>word</th>\n",
       "      <th>speaker_id</th>\n",
       "    </tr>\n",
       "  </thead>\n",
       "  <tbody>\n",
       "    <tr>\n",
       "      <th>0</th>\n",
       "      <td>right/988e2f9a_nohash_0.wav</td>\n",
       "      <td>right</td>\n",
       "      <td>988e2f9a</td>\n",
       "    </tr>\n",
       "    <tr>\n",
       "      <th>1</th>\n",
       "      <td>right/1eddce1d_nohash_3.wav</td>\n",
       "      <td>right</td>\n",
       "      <td>1eddce1d</td>\n",
       "    </tr>\n",
       "    <tr>\n",
       "      <th>2</th>\n",
       "      <td>right/93ec8b84_nohash_0.wav</td>\n",
       "      <td>right</td>\n",
       "      <td>93ec8b84</td>\n",
       "    </tr>\n",
       "    <tr>\n",
       "      <th>3</th>\n",
       "      <td>right/6272b231_nohash_1.wav</td>\n",
       "      <td>right</td>\n",
       "      <td>6272b231</td>\n",
       "    </tr>\n",
       "    <tr>\n",
       "      <th>5</th>\n",
       "      <td>right/2f813234_nohash_1.wav</td>\n",
       "      <td>right</td>\n",
       "      <td>2f813234</td>\n",
       "    </tr>\n",
       "    <tr>\n",
       "      <th>...</th>\n",
       "      <td>...</td>\n",
       "      <td>...</td>\n",
       "      <td>...</td>\n",
       "    </tr>\n",
       "    <tr>\n",
       "      <th>64714</th>\n",
       "      <td>four/10c6d873_nohash_0.wav</td>\n",
       "      <td>four</td>\n",
       "      <td>10c6d873</td>\n",
       "    </tr>\n",
       "    <tr>\n",
       "      <th>64715</th>\n",
       "      <td>four/333784b7_nohash_1.wav</td>\n",
       "      <td>four</td>\n",
       "      <td>333784b7</td>\n",
       "    </tr>\n",
       "    <tr>\n",
       "      <th>64716</th>\n",
       "      <td>four/93f30cc4_nohash_1.wav</td>\n",
       "      <td>four</td>\n",
       "      <td>93f30cc4</td>\n",
       "    </tr>\n",
       "    <tr>\n",
       "      <th>64718</th>\n",
       "      <td>four/238c112c_nohash_0.wav</td>\n",
       "      <td>four</td>\n",
       "      <td>238c112c</td>\n",
       "    </tr>\n",
       "    <tr>\n",
       "      <th>64719</th>\n",
       "      <td>four/173ae793_nohash_1.wav</td>\n",
       "      <td>four</td>\n",
       "      <td>173ae793</td>\n",
       "    </tr>\n",
       "  </tbody>\n",
       "</table>\n",
       "<p>51088 rows × 3 columns</p>\n",
       "</div>"
      ],
      "text/plain": [
       "                        recordings   word speaker_id\n",
       "0      right/988e2f9a_nohash_0.wav  right   988e2f9a\n",
       "1      right/1eddce1d_nohash_3.wav  right   1eddce1d\n",
       "2      right/93ec8b84_nohash_0.wav  right   93ec8b84\n",
       "3      right/6272b231_nohash_1.wav  right   6272b231\n",
       "5      right/2f813234_nohash_1.wav  right   2f813234\n",
       "...                            ...    ...        ...\n",
       "64714   four/10c6d873_nohash_0.wav   four   10c6d873\n",
       "64715   four/333784b7_nohash_1.wav   four   333784b7\n",
       "64716   four/93f30cc4_nohash_1.wav   four   93f30cc4\n",
       "64718   four/238c112c_nohash_0.wav   four   238c112c\n",
       "64719   four/173ae793_nohash_1.wav   four   173ae793\n",
       "\n",
       "[51088 rows x 3 columns]"
      ]
     },
     "execution_count": 26,
     "metadata": {},
     "output_type": "execute_result"
    }
   ],
   "source": [
    "training_df"
   ]
  },
  {
   "cell_type": "code",
   "execution_count": 28,
   "metadata": {},
   "outputs": [
    {
     "name": "stdout",
     "output_type": "stream",
     "text": [
      "Original sample rate: 16000\n",
      "Librosa sample rate: 22050\n"
     ]
    }
   ],
   "source": [
    "fn = 'speech_commands_v0.01/four/10c6d873_nohash_0.wav'\n",
    "librosa_audio, librosa_sample_rate = librosa.load(fn)\n",
    "scipy_sample_rate, scipy_audio = wav.read(fn)\n",
    "print(\"Original sample rate: {}\".format(scipy_sample_rate))\n",
    "print(\"Librosa sample rate: {}\".format(librosa_sample_rate))"
   ]
  },
  {
   "cell_type": "code",
   "execution_count": 29,
   "metadata": {},
   "outputs": [
    {
     "name": "stdout",
     "output_type": "stream",
     "text": [
      "Original audio file min~max range: -32768 to 16883\n",
      "Librosa audio file min~max range: -1.00 to -1.00\n"
     ]
    }
   ],
   "source": [
    "print('Original audio file min~max range: {} to {}'.format(np.min(scipy_audio), np.max(scipy_audio)))\n",
    "print('Librosa audio file min~max range: {0:.2f} to {0:.2f}'.format(np.min(librosa_audio), np.max(librosa_audio)))"
   ]
  },
  {
   "cell_type": "code",
   "execution_count": 30,
   "metadata": {},
   "outputs": [],
   "source": [
    "mfccs = librosa.feature.mfcc(y=librosa_audio, sr=librosa_sample_rate, n_mfcc = 40)"
   ]
  },
  {
   "cell_type": "code",
   "execution_count": 20,
   "metadata": {},
   "outputs": [
    {
     "data": {
      "text/plain": [
       "(40, 44)"
      ]
     },
     "execution_count": 20,
     "metadata": {},
     "output_type": "execute_result"
    }
   ],
   "source": [
    "mfccs.shape"
   ]
  },
  {
   "cell_type": "code",
   "execution_count": 25,
   "metadata": {},
   "outputs": [
    {
     "data": {
      "text/plain": [
       "(40, 44)"
      ]
     },
     "execution_count": 25,
     "metadata": {},
     "output_type": "execute_result"
    }
   ],
   "source": [
    "mfccs.shape"
   ]
  },
  {
   "cell_type": "code",
   "execution_count": 31,
   "metadata": {},
   "outputs": [
    {
     "data": {
      "text/plain": [
       "(40, 44)"
      ]
     },
     "execution_count": 31,
     "metadata": {},
     "output_type": "execute_result"
    }
   ],
   "source": [
    "mfccs.shape"
   ]
  },
  {
   "cell_type": "code",
   "execution_count": 32,
   "metadata": {},
   "outputs": [],
   "source": [
    "def extract_features(file_name):\n",
    "    audio, sample_rate = librosa.load(file_name) \n",
    "    mfccs = librosa.feature.mfcc(y=audio, sr=sample_rate, n_mfcc=40)\n",
    "    mfccs_processed = np.mean(mfccs.T,axis=0)\n",
    "     \n",
    "    return mfccs_processed"
   ]
  },
  {
   "cell_type": "code",
   "execution_count": 54,
   "metadata": {},
   "outputs": [],
   "source": [
    "def dataset_prep(df):\n",
    "    features = []\n",
    "    # Iterate through each sound file and extract the features \n",
    "    for index, row in df.iterrows():\n",
    "        file_name = 'speech_commands_v0.01/'+row['recordings']\n",
    "        class_label = row[\"word\"]\n",
    "        data = extract_features(file_name)\n",
    "\n",
    "        features.append([data, class_label])\n",
    "    # Convert into a Panda dataframe \n",
    "    featuresdf = pd.DataFrame(features, columns=['feature','class_label'])\n",
    "    return featuresdf"
   ]
  },
  {
   "cell_type": "code",
   "execution_count": 56,
   "metadata": {},
   "outputs": [],
   "source": [
    "# featuresdf = dataset_prep(df)\n",
    "# featuresdf.to_csv(\"training_set.csv\")\n",
    "\n",
    "testdf = dataset_prep(df=test_df)\n",
    "valdf = dataset_prep(df=val_df)"
   ]
  },
  {
   "cell_type": "code",
   "execution_count": 57,
   "metadata": {},
   "outputs": [],
   "source": [
    "testdf.to_csv(\"training_set.csv\")\n",
    "valdf.to_csv(\"validation_set.csv\")"
   ]
  },
  {
   "cell_type": "code",
   "execution_count": 38,
   "metadata": {},
   "outputs": [],
   "source": [
    "from sklearn.preprocessing import LabelEncoder\n",
    "from keras.utils import to_categorical"
   ]
  },
  {
   "cell_type": "code",
   "execution_count": 58,
   "metadata": {},
   "outputs": [],
   "source": [
    "# Convert features and corresponding classification labels into numpy arrays\n",
    "X = np.array(featuresdf.feature.tolist())\n",
    "y = np.array(featuresdf.class_label.tolist())\n",
    "# Encode the classification labels\n",
    "le = LabelEncoder()\n",
    "yy = to_categorical(le.fit_transform(y))\n",
    "\n",
    "x_val = np.array(valdf.feature.tolist())\n",
    "y_val = np.array(valdf.class_label.tolist())\n",
    "y_val = to_categorical(le.transform(y_val))\n",
    "\n",
    "x_test = np.array(testdf.feature.tolist())\n",
    "y_test = np.array(testdf.class_label.tolist())\n",
    "y_test = to_categorical(le.transform(y_test))"
   ]
  },
  {
   "cell_type": "code",
   "execution_count": 51,
   "metadata": {},
   "outputs": [],
   "source": [
    "num_labels = yy.shape[1]\n",
    "filter_size = 2\n",
    "def build_model_graph(input_shape=(40,)):\n",
    "    model = Sequential()\n",
    "    model.add(Dense(30))\n",
    "    model.add(Activation('relu'))\n",
    "    # Compile the model\n",
    "    model.compile(loss='categorical_crossentropy', metrics=['accuracy'], optimizer='adam')\n",
    "    return model\n",
    "model = build_model_graph()"
   ]
  },
  {
   "cell_type": "code",
   "execution_count": 59,
   "metadata": {
    "scrolled": true
   },
   "outputs": [
    {
     "name": "stdout",
     "output_type": "stream",
     "text": [
      "Epoch 1/100\n",
      "1597/1597 [==============================] - 2s 1ms/step - loss: 6.1674 - accuracy: 0.1005 - val_loss: 6.1395 - val_accuracy: 0.1175\n",
      "Epoch 2/100\n",
      "1597/1597 [==============================] - 2s 1ms/step - loss: 6.0702 - accuracy: 0.1304 - val_loss: 6.0711 - val_accuracy: 0.1802\n",
      "Epoch 3/100\n",
      "1597/1597 [==============================] - 2s 1ms/step - loss: 6.0262 - accuracy: 0.1564 - val_loss: 6.0418 - val_accuracy: 0.17120s -\n",
      "Epoch 4/100\n",
      "1597/1597 [==============================] - 2s 1ms/step - loss: 6.0187 - accuracy: 0.1657 - val_loss: 6.0452 - val_accuracy: 0.1553\n",
      "Epoch 5/100\n",
      "1597/1597 [==============================] - 2s 1ms/step - loss: 5.9888 - accuracy: 0.1652 - val_loss: 6.0235 - val_accuracy: 0.1798\n",
      "Epoch 6/100\n",
      "1597/1597 [==============================] - 2s 1ms/step - loss: 5.9720 - accuracy: 0.1803 - val_loss: 6.0057 - val_accuracy: 0.1902\n",
      "Epoch 7/100\n",
      "1597/1597 [==============================] - 2s 1ms/step - loss: 5.9796 - accuracy: 0.1767 - val_loss: 6.0369 - val_accuracy: 0.1568\n",
      "Epoch 8/100\n",
      "1597/1597 [==============================] - 2s 1ms/step - loss: 5.9775 - accuracy: 0.1635 - val_loss: 6.0076 - val_accuracy: 0.1914\n",
      "Epoch 9/100\n",
      "1597/1597 [==============================] - 2s 1ms/step - loss: 5.9644 - accuracy: 0.1742 - val_loss: 6.0407 - val_accuracy: 0.1552\n",
      "Epoch 10/100\n",
      "1597/1597 [==============================] - 2s 1ms/step - loss: 5.9747 - accuracy: 0.1689 - val_loss: 6.0375 - val_accuracy: 0.1727\n",
      "Epoch 11/100\n",
      "1597/1597 [==============================] - 2s 2ms/step - loss: 5.9623 - accuracy: 0.1787 - val_loss: 6.0118 - val_accuracy: 0.1761\n",
      "Epoch 12/100\n",
      "1597/1597 [==============================] - 3s 2ms/step - loss: 5.9574 - accuracy: 0.1777 - val_loss: 6.0079 - val_accuracy: 0.1887\n",
      "Epoch 13/100\n",
      "1597/1597 [==============================] - 4s 2ms/step - loss: 5.9507 - accuracy: 0.1883 - val_loss: 6.0084 - val_accuracy: 0.1926\n",
      "Epoch 14/100\n",
      "1597/1597 [==============================] - 2s 1ms/step - loss: 5.9659 - accuracy: 0.1921 - val_loss: 6.0085 - val_accuracy: 0.1970\n",
      "Epoch 15/100\n",
      "1597/1597 [==============================] - 4s 2ms/step - loss: 5.9541 - accuracy: 0.1869 - val_loss: 5.9998 - val_accuracy: 0.1933\n",
      "Epoch 16/100\n",
      "1597/1597 [==============================] - 4s 2ms/step - loss: 5.9539 - accuracy: 0.1877 - val_loss: 6.0299 - val_accuracy: 0.1906\n",
      "Epoch 17/100\n",
      "1597/1597 [==============================] - 2s 1ms/step - loss: 5.9505 - accuracy: 0.1949 - val_loss: 6.0264 - val_accuracy: 0.1943\n",
      "Epoch 18/100\n",
      "1597/1597 [==============================] - 3s 2ms/step - loss: 5.9475 - accuracy: 0.1964 - val_loss: 6.0183 - val_accuracy: 0.1927\n",
      "Epoch 19/100\n",
      "1597/1597 [==============================] - 3s 2ms/step - loss: 5.9457 - accuracy: 0.1930 - val_loss: 6.0200 - val_accuracy: 0.1958\n",
      "Epoch 20/100\n",
      "1597/1597 [==============================] - 5s 3ms/step - loss: 5.9525 - accuracy: 0.1908 - val_loss: 6.0134 - val_accuracy: 0.1958\n",
      "Epoch 21/100\n",
      "1597/1597 [==============================] - 5s 3ms/step - loss: 5.9534 - accuracy: 0.1826 - val_loss: 6.0017 - val_accuracy: 0.1840\n",
      "Epoch 22/100\n",
      "1597/1597 [==============================] - 3s 2ms/step - loss: 5.9500 - accuracy: 0.1831 - val_loss: 6.0188 - val_accuracy: 0.1890\n",
      "Epoch 23/100\n",
      "1597/1597 [==============================] - 3s 2ms/step - loss: 5.9467 - accuracy: 0.1872 - val_loss: 6.0154 - val_accuracy: 0.1767\n",
      "Epoch 24/100\n",
      "1597/1597 [==============================] - 3s 2ms/step - loss: 5.9420 - accuracy: 0.1905 - val_loss: 6.0030 - val_accuracy: 0.1940\n",
      "Epoch 25/100\n",
      "1597/1597 [==============================] - 3s 2ms/step - loss: 5.9518 - accuracy: 0.1944 - val_loss: 6.0218 - val_accuracy: 0.2083\n",
      "Epoch 26/100\n",
      "1597/1597 [==============================] - 4s 2ms/step - loss: 5.9450 - accuracy: 0.1940 - val_loss: 6.0033 - val_accuracy: 0.2001\n",
      "Epoch 27/100\n",
      "1597/1597 [==============================] - 3s 2ms/step - loss: 5.9456 - accuracy: 0.1911 - val_loss: 6.0119 - val_accuracy: 0.1946\n",
      "Epoch 28/100\n",
      "1597/1597 [==============================] - 3s 2ms/step - loss: 5.9454 - accuracy: 0.1909 - val_loss: 5.9968 - val_accuracy: 0.1911\n",
      "Epoch 29/100\n",
      "1597/1597 [==============================] - 3s 2ms/step - loss: 5.9418 - accuracy: 0.1954 - val_loss: 5.9993 - val_accuracy: 0.1998\n",
      "Epoch 30/100\n",
      "1597/1597 [==============================] - 3s 2ms/step - loss: 5.9421 - accuracy: 0.2006 - val_loss: 6.0013 - val_accuracy: 0.1902\n",
      "Epoch 31/100\n",
      "1597/1597 [==============================] - 3s 2ms/step - loss: 5.9339 - accuracy: 0.1924 - val_loss: 5.9969 - val_accuracy: 0.2046\n",
      "Epoch 32/100\n",
      "1597/1597 [==============================] - 3s 2ms/step - loss: 5.9395 - accuracy: 0.1996 - val_loss: 6.0082 - val_accuracy: 0.1881\n",
      "Epoch 33/100\n",
      "1597/1597 [==============================] - 3s 2ms/step - loss: 5.9373 - accuracy: 0.1973 - val_loss: 6.0172 - val_accuracy: 0.2056\n",
      "Epoch 34/100\n",
      "1597/1597 [==============================] - 3s 2ms/step - loss: 5.9402 - accuracy: 0.1952 - val_loss: 6.0411 - val_accuracy: 0.2065\n",
      "Epoch 35/100\n",
      "1597/1597 [==============================] - 5s 3ms/step - loss: 5.9366 - accuracy: 0.1961 - val_loss: 6.0145 - val_accuracy: 0.2132\n",
      "Epoch 36/100\n",
      "1597/1597 [==============================] - 3s 2ms/step - loss: 5.9431 - accuracy: 0.1966 - val_loss: 6.0246 - val_accuracy: 0.2039\n",
      "Epoch 37/100\n",
      "1597/1597 [==============================] - 4s 3ms/step - loss: 5.9403 - accuracy: 0.1949 - val_loss: 6.0029 - val_accuracy: 0.1923\n",
      "Epoch 38/100\n",
      "1597/1597 [==============================] - 3s 2ms/step - loss: 5.9349 - accuracy: 0.1909 - val_loss: 5.9950 - val_accuracy: 0.2017\n",
      "Epoch 39/100\n",
      "1597/1597 [==============================] - 3s 2ms/step - loss: 5.9399 - accuracy: 0.1966 - val_loss: 6.0185 - val_accuracy: 0.1964\n",
      "Epoch 40/100\n",
      "1597/1597 [==============================] - 4s 3ms/step - loss: 5.9290 - accuracy: 0.1965 - val_loss: 6.0001 - val_accuracy: 0.2115\n",
      "Epoch 41/100\n",
      "1597/1597 [==============================] - 4s 3ms/step - loss: 5.9394 - accuracy: 0.2006 - val_loss: 6.0096 - val_accuracy: 0.1961\n",
      "Epoch 42/100\n",
      "1597/1597 [==============================] - 3s 2ms/step - loss: 5.9362 - accuracy: 0.1937 - val_loss: 6.0238 - val_accuracy: 0.1961\n",
      "Epoch 43/100\n",
      "1597/1597 [==============================] - 3s 2ms/step - loss: 5.9493 - accuracy: 0.1953 - val_loss: 6.0448 - val_accuracy: 0.2020\n",
      "Epoch 44/100\n",
      "1597/1597 [==============================] - 3s 2ms/step - loss: 5.9367 - accuracy: 0.1950 - val_loss: 6.0213 - val_accuracy: 0.2008\n",
      "Epoch 45/100\n",
      "1597/1597 [==============================] - 3s 2ms/step - loss: 5.9275 - accuracy: 0.1977 - val_loss: 6.0228 - val_accuracy: 0.2030\n",
      "Epoch 46/100\n",
      "1597/1597 [==============================] - 4s 2ms/step - loss: 5.9443 - accuracy: 0.1994 - val_loss: 6.0005 - val_accuracy: 0.2045\n",
      "Epoch 47/100\n",
      "1597/1597 [==============================] - 3s 2ms/step - loss: 5.9356 - accuracy: 0.1941 - val_loss: 6.0448 - val_accuracy: 0.1936\n",
      "Epoch 48/100\n",
      "1597/1597 [==============================] - 4s 2ms/step - loss: 5.9449 - accuracy: 0.1951 - val_loss: 6.0204 - val_accuracy: 0.2064\n",
      "Epoch 49/100\n",
      "1597/1597 [==============================] - 3s 2ms/step - loss: 5.9339 - accuracy: 0.1919 - val_loss: 6.0141 - val_accuracy: 0.1998\n",
      "Epoch 50/100\n",
      "1597/1597 [==============================] - 3s 2ms/step - loss: 5.9332 - accuracy: 0.1969 - val_loss: 6.0137 - val_accuracy: 0.1880\n",
      "Epoch 51/100\n",
      "1597/1597 [==============================] - 5s 3ms/step - loss: 5.9278 - accuracy: 0.1959 - val_loss: 6.0187 - val_accuracy: 0.2157\n",
      "Epoch 52/100\n",
      "1597/1597 [==============================] - 3s 2ms/step - loss: 5.9328 - accuracy: 0.1960 - val_loss: 6.0233 - val_accuracy: 0.1790\n",
      "Epoch 53/100\n",
      "1597/1597 [==============================] - 3s 2ms/step - loss: 5.9340 - accuracy: 0.1975 - val_loss: 6.0187 - val_accuracy: 0.2004\n",
      "Epoch 54/100\n",
      "1597/1597 [==============================] - 3s 2ms/step - loss: 5.9265 - accuracy: 0.1908 - val_loss: 6.0247 - val_accuracy: 0.1937\n",
      "Epoch 55/100\n",
      "1597/1597 [==============================] - 5s 3ms/step - loss: 5.9348 - accuracy: 0.1995 - val_loss: 6.0142 - val_accuracy: 0.2129\n",
      "Epoch 56/100\n",
      "1597/1597 [==============================] - 5s 3ms/step - loss: 5.9416 - accuracy: 0.1960 - val_loss: 6.0172 - val_accuracy: 0.1983\n",
      "Epoch 57/100\n"
     ]
    },
    {
     "name": "stdout",
     "output_type": "stream",
     "text": [
      "1597/1597 [==============================] - 3s 2ms/step - loss: 5.9252 - accuracy: 0.1959 - val_loss: 6.0082 - val_accuracy: 0.1849\n",
      "Epoch 58/100\n",
      "1597/1597 [==============================] - 6s 4ms/step - loss: 5.9242 - accuracy: 0.1794 - val_loss: 6.0034 - val_accuracy: 0.1824\n",
      "Epoch 59/100\n",
      "1597/1597 [==============================] - 3s 2ms/step - loss: 5.9223 - accuracy: 0.1819 - val_loss: 6.0220 - val_accuracy: 0.1749\n",
      "Epoch 60/100\n",
      "1597/1597 [==============================] - 4s 2ms/step - loss: 5.9284 - accuracy: 0.1797 - val_loss: 6.0060 - val_accuracy: 0.1984\n",
      "Epoch 61/100\n",
      "1597/1597 [==============================] - 3s 2ms/step - loss: 5.9228 - accuracy: 0.1963 - val_loss: 6.0169 - val_accuracy: 0.2127\n",
      "Epoch 62/100\n",
      "1597/1597 [==============================] - 6s 4ms/step - loss: 5.9255 - accuracy: 0.1959 - val_loss: 6.0228 - val_accuracy: 0.2084\n",
      "Epoch 63/100\n",
      "1597/1597 [==============================] - 4s 3ms/step - loss: 5.9262 - accuracy: 0.2023 - val_loss: 5.9991 - val_accuracy: 0.2108\n",
      "Epoch 64/100\n",
      "1597/1597 [==============================] - 5s 3ms/step - loss: 5.9272 - accuracy: 0.1970 - val_loss: 6.0312 - val_accuracy: 0.2056\n",
      "Epoch 65/100\n",
      "1597/1597 [==============================] - 6s 4ms/step - loss: 5.9285 - accuracy: 0.1955 - val_loss: 6.0410 - val_accuracy: 0.2042\n",
      "Epoch 66/100\n",
      "1597/1597 [==============================] - 5s 3ms/step - loss: 5.9273 - accuracy: 0.2005 - val_loss: 6.0016 - val_accuracy: 0.2102\n",
      "Epoch 67/100\n",
      "1597/1597 [==============================] - 6s 4ms/step - loss: 5.9284 - accuracy: 0.1972 - val_loss: 6.0285 - val_accuracy: 0.2073\n",
      "Epoch 68/100\n",
      "1597/1597 [==============================] - 5s 3ms/step - loss: 5.9390 - accuracy: 0.1999 - val_loss: 6.0222 - val_accuracy: 0.2120\n",
      "Epoch 69/100\n",
      "1597/1597 [==============================] - 5s 3ms/step - loss: 5.9381 - accuracy: 0.2016 - val_loss: 6.0241 - val_accuracy: 0.2026\n",
      "Epoch 70/100\n",
      "1597/1597 [==============================] - 3s 2ms/step - loss: 5.9301 - accuracy: 0.2005 - val_loss: 6.0429 - val_accuracy: 0.2071\n",
      "Epoch 71/100\n",
      "1597/1597 [==============================] - 6s 3ms/step - loss: 5.9353 - accuracy: 0.2022 - val_loss: 6.0187 - val_accuracy: 0.2046\n",
      "Epoch 72/100\n",
      "1597/1597 [==============================] - 3s 2ms/step - loss: 5.9307 - accuracy: 0.1986 - val_loss: 5.9960 - val_accuracy: 0.1990\n",
      "Epoch 73/100\n",
      "1597/1597 [==============================] - 3s 2ms/step - loss: 5.9285 - accuracy: 0.1912 - val_loss: 6.0202 - val_accuracy: 0.1895\n",
      "Epoch 74/100\n",
      "1597/1597 [==============================] - 3s 2ms/step - loss: 5.9221 - accuracy: 0.1965 - val_loss: 6.0030 - val_accuracy: 0.2086\n",
      "Epoch 75/100\n",
      "1597/1597 [==============================] - 4s 3ms/step - loss: 5.9211 - accuracy: 0.1962 - val_loss: 6.0188 - val_accuracy: 0.2015\n",
      "Epoch 76/100\n",
      "1597/1597 [==============================] - 5s 3ms/step - loss: 5.9246 - accuracy: 0.2042 - val_loss: 6.0353 - val_accuracy: 0.2114\n",
      "Epoch 77/100\n",
      "1597/1597 [==============================] - 4s 3ms/step - loss: 5.9244 - accuracy: 0.2059 - val_loss: 6.0058 - val_accuracy: 0.2154\n",
      "Epoch 78/100\n",
      "1597/1597 [==============================] - 3s 2ms/step - loss: 5.9278 - accuracy: 0.2004 - val_loss: 6.0217 - val_accuracy: 0.2080\n",
      "Epoch 79/100\n",
      "1597/1597 [==============================] - 3s 2ms/step - loss: 5.9262 - accuracy: 0.1991 - val_loss: 6.0157 - val_accuracy: 0.1914\n",
      "Epoch 80/100\n",
      "1597/1597 [==============================] - 3s 2ms/step - loss: 5.9179 - accuracy: 0.1975 - val_loss: 6.0127 - val_accuracy: 0.2006\n",
      "Epoch 81/100\n",
      "1597/1597 [==============================] - 3s 2ms/step - loss: 5.9201 - accuracy: 0.1975 - val_loss: 6.0264 - val_accuracy: 0.2070\n",
      "Epoch 82/100\n",
      "1597/1597 [==============================] - 3s 2ms/step - loss: 5.9217 - accuracy: 0.2040 - val_loss: 6.0116 - val_accuracy: 0.1983\n",
      "Epoch 83/100\n",
      "1597/1597 [==============================] - 4s 2ms/step - loss: 5.9243 - accuracy: 0.1901 - val_loss: 6.0287 - val_accuracy: 0.1767\n",
      "Epoch 84/100\n",
      "1597/1597 [==============================] - 4s 2ms/step - loss: 5.9323 - accuracy: 0.1843 - val_loss: 6.0282 - val_accuracy: 0.1893\n",
      "Epoch 85/100\n",
      "1597/1597 [==============================] - 3s 2ms/step - loss: 5.9335 - accuracy: 0.1903 - val_loss: 6.0098 - val_accuracy: 0.1990\n",
      "Epoch 86/100\n",
      "1597/1597 [==============================] - 5s 3ms/step - loss: 5.9279 - accuracy: 0.1918 - val_loss: 6.0104 - val_accuracy: 0.1954\n",
      "Epoch 87/100\n",
      "1597/1597 [==============================] - 5s 3ms/step - loss: 5.9247 - accuracy: 0.1942 - val_loss: 5.9973 - val_accuracy: 0.2065\n",
      "Epoch 88/100\n",
      "1597/1597 [==============================] - 5s 3ms/step - loss: 5.9198 - accuracy: 0.2031 - val_loss: 5.9980 - val_accuracy: 0.2073\n",
      "Epoch 89/100\n",
      "1597/1597 [==============================] - 3s 2ms/step - loss: 5.9210 - accuracy: 0.2039 - val_loss: 6.0264 - val_accuracy: 0.2039\n",
      "Epoch 90/100\n",
      "1597/1597 [==============================] - 4s 2ms/step - loss: 5.9274 - accuracy: 0.2028 - val_loss: 6.0294 - val_accuracy: 0.2095\n",
      "Epoch 91/100\n",
      "1597/1597 [==============================] - 4s 2ms/step - loss: 5.9241 - accuracy: 0.2033 - val_loss: 5.9930 - val_accuracy: 0.2127\n",
      "Epoch 92/100\n",
      "1597/1597 [==============================] - 3s 2ms/step - loss: 5.9202 - accuracy: 0.2034 - val_loss: 6.0298 - val_accuracy: 0.2136\n",
      "Epoch 93/100\n",
      "1597/1597 [==============================] - 3s 2ms/step - loss: 5.9238 - accuracy: 0.2001 - val_loss: 6.0518 - val_accuracy: 0.2011\n",
      "Epoch 94/100\n",
      "1597/1597 [==============================] - 4s 3ms/step - loss: 5.9248 - accuracy: 0.1993 - val_loss: 6.0419 - val_accuracy: 0.2114\n",
      "Epoch 95/100\n",
      "1597/1597 [==============================] - 7s 4ms/step - loss: 5.9271 - accuracy: 0.2009 - val_loss: 6.0275 - val_accuracy: 0.2083\n",
      "Epoch 96/100\n",
      "1597/1597 [==============================] - 3s 2ms/step - loss: 5.9278 - accuracy: 0.2024 - val_loss: 6.0203 - val_accuracy: 0.2024\n",
      "Epoch 97/100\n",
      "1597/1597 [==============================] - 5s 3ms/step - loss: 5.9245 - accuracy: 0.2006 - val_loss: 6.0342 - val_accuracy: 0.2154\n",
      "Epoch 98/100\n",
      "1597/1597 [==============================] - 6s 4ms/step - loss: 5.9297 - accuracy: 0.2005 - val_loss: 6.0233 - val_accuracy: 0.2114\n",
      "Epoch 99/100\n",
      "1597/1597 [==============================] - 6s 4ms/step - loss: 5.9266 - accuracy: 0.1982 - val_loss: 6.0075 - val_accuracy: 0.1980\n",
      "Epoch 100/100\n",
      "1597/1597 [==============================] - 4s 2ms/step - loss: 5.9237 - accuracy: 0.1964 - val_loss: 6.0235 - val_accuracy: 0.1996\n"
     ]
    },
    {
     "data": {
      "text/plain": [
       "<tensorflow.python.keras.callbacks.History at 0x15b111b50>"
      ]
     },
     "execution_count": 59,
     "metadata": {},
     "output_type": "execute_result"
    }
   ],
   "source": [
    "num_epochs = 100\n",
    "num_batch_size = 32\n",
    "model.fit(X, yy, batch_size=num_batch_size, epochs=num_epochs, validation_data=(x_val, y_val), verbose=1)"
   ]
  },
  {
   "cell_type": "code",
   "execution_count": 62,
   "metadata": {},
   "outputs": [
    {
     "name": "stdout",
     "output_type": "stream",
     "text": [
      "Training Accuracy: 19.21%\n",
      "Validation Accuracy: 19.96%\n",
      "Testing Accuracy: 18.65%\n"
     ]
    }
   ],
   "source": [
    "score = model.evaluate(X, yy, verbose=0)\n",
    "print(\"Training Accuracy: {0:.2%}\".format(score[1]))\n",
    "score = model.evaluate(x_val, y_val, verbose=0)\n",
    "print(\"Validation Accuracy: {0:.2%}\".format(score[1]))\n",
    "score = model.evaluate(x_test, y_test, verbose=0)\n",
    "print(\"Testing Accuracy: {0:.2%}\".format(score[1]))"
   ]
  },
  {
   "cell_type": "code",
   "execution_count": null,
   "metadata": {},
   "outputs": [],
   "source": []
  }
 ],
 "metadata": {
  "kernelspec": {
   "display_name": "general",
   "language": "python",
   "name": "general"
  },
  "language_info": {
   "codemirror_mode": {
    "name": "ipython",
    "version": 3
   },
   "file_extension": ".py",
   "mimetype": "text/x-python",
   "name": "python",
   "nbconvert_exporter": "python",
   "pygments_lexer": "ipython3",
   "version": "3.8.2"
  }
 },
 "nbformat": 4,
 "nbformat_minor": 4
}

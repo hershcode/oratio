{
  "cells": [
    {
      "cell_type": "code",
      "execution_count": null,
      "metadata": {
        "id": "E7X3cGHaunZn"
      },
      "outputs": [],
      "source": [
        "import os \n",
        "import sys\n",
        "\n",
        "import pandas as pd\n",
        "import numpy as np\n",
        "import matplotlib.pyplot as plt\n",
        "\n",
        "\n",
        "from sklearn.preprocessing import LabelEncoder\n",
        "import tensorflow as tf\n",
        "from tensorflow.keras.constraints import MaxNorm\n",
        "import pickle \n"
      ]
    },
    {
      "cell_type": "code",
      "source": [
        "pickle.dump(le,open(\"le.pkl\",\"wb\"))"
      ],
      "metadata": {
        "id": "n3MUHpTwEpz7"
      },
      "execution_count": null,
      "outputs": []
    },
    {
      "cell_type": "code",
      "execution_count": null,
      "metadata": {
        "id": "1rsyaLHGvJ-Q"
      },
      "outputs": [],
      "source": [
        "traindf = pd.read_csv('train.csv')\n",
        "valdf = pd.read_csv('val.csv')\n",
        "testdf = pd.read_csv('test.csv')"
      ]
    },
    {
      "cell_type": "code",
      "execution_count": null,
      "metadata": {
        "id": "O9NuchjGvBqN"
      },
      "outputs": [],
      "source": [
        "# Convert features and corresponding classification labels into numpy arrays\n",
        "X = np.array(traindf.drop(labels='labels', axis=1).values)\n",
        "y = np.array(traindf.labels.tolist())\n",
        "# Encode the classification labels\n",
        "le = LabelEncoder()\n",
        "yy_trans = tf.keras.utils.to_categorical(le.fit_transform(y))\n",
        "\n",
        "x_val = np.array(valdf.drop(labels='labels', axis=1).values)\n",
        "y_val = np.array(valdf.labels.tolist())\n",
        "y_val_trans = tf.keras.utils.to_categorical(le.transform(y_val))\n",
        "\n",
        "x_test = np.array(testdf.drop(labels='labels', axis=1).values)\n",
        "y_test = np.array(testdf.labels.tolist())\n",
        "y_test_trans = tf.keras.utils.to_categorical(le.transform(y_test))"
      ]
    },
    {
      "cell_type": "code",
      "execution_count": null,
      "metadata": {
        "id": "F1udTuvkvp3D"
      },
      "outputs": [],
      "source": [
        "def model_graph(input_shape=(520,)):\n",
        "  \n",
        "  model = tf.keras.Sequential()\n",
        "  model.add(tf.keras.layers.Dense(50, activation='relu', input_shape=input_shape)) \n",
        "  model.add(tf.keras.layers.Dense(30, activation='softmax'))\n",
        "  # Compile the model\n",
        "  model.compile(loss='categorical_crossentropy', \n",
        "                metrics=['accuracy'], optimizer='adamax')\n",
        "  return model\n"
      ]
    },
    {
      "cell_type": "code",
      "execution_count": null,
      "metadata": {
        "id": "lJmcrdL6xugB"
      },
      "outputs": [],
      "source": [
        "def plot_metric(history, metric):\n",
        "    train_metrics = history.history[metric]\n",
        "    val_metrics = history.history['val_'+metric]\n",
        "    epochs = range(1, len(train_metrics) + 1)\n",
        "    plt.plot(epochs, train_metrics)\n",
        "    plt.plot(epochs, val_metrics)\n",
        "    plt.title('Training and validation '+ metric)\n",
        "    plt.xlabel(\"Epochs\")\n",
        "    plt.ylabel(metric)\n",
        "    plt.legend([\"train_\"+metric, 'val_'+metric])\n",
        "    plt.show()"
      ]
    },
    {
      "cell_type": "code",
      "execution_count": null,
      "metadata": {
        "id": "8pt7L_qmx1Lb"
      },
      "outputs": [],
      "source": [
        "model = model_graph()\n",
        "history = model.fit(x=X, \n",
        "                    y=yy, \n",
        "                    epochs=300,\n",
        "                    validation_data=(x_val, y_val),\n",
        "                    # batch_size=65,\n",
        "                    verbose=1)"
      ]
    },
    {
      "cell_type": "code",
      "source": [
        "model = tf.keras.models.load_model('/content/oratio_model.h5')"
      ],
      "metadata": {
        "id": "cN1p8QN-fuwG"
      },
      "execution_count": null,
      "outputs": []
    },
    {
      "cell_type": "code",
      "source": [
        "prediction = model.predict(np.array([x_test[0]]))"
      ],
      "metadata": {
        "id": "4RIHwOf6-vxB"
      },
      "execution_count": null,
      "outputs": []
    }
  ],
  "metadata": {
    "accelerator": "GPU",
    "colab": {
      "machine_shape": "hm",
      "provenance": []
    },
    "gpuClass": "standard",
    "kernelspec": {
      "display_name": "Python 3",
      "name": "python3"
    },
    "language_info": {
      "name": "python"
    }
  },
  "nbformat": 4,
  "nbformat_minor": 0
}
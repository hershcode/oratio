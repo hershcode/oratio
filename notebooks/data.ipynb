{
 "cells": [
  {
   "cell_type": "code",
   "execution_count": 1,
   "metadata": {},
   "outputs": [],
   "source": [
    "import os \n",
    "import sys\n",
    "\n",
    "# import pandas as pd\n",
    "import numpy as np\n",
    "import librosa\n",
    "import librosa.display\n",
    "import matplotlib.pyplot as plt\n",
    "# import IPython.display as ipd\n",
    "\n",
    "# import tensorflow as tf\n",
    "# from tensorflow.keras.preprocessing.image import load_img\n",
    "# from tensorflow.keras.preprocessing.image import img_to_array\n",
    "# from tensorflow.keras.preprocessing.image import array_to_img\n",
    "# from sklearn.linear_model import LogisticRegression\n",
    "# from PIL import Image\n",
    "\n",
    "\n",
    "\n",
    "PATH = '../data/raw/speech_commands_v0.01/'\n",
    "TEST_PATH = PATH + 'testing_list.txt'\n",
    "VAL_PATH = PATH + 'validation_list.txt'"
   ]
  },
  {
   "cell_type": "code",
   "execution_count": 2,
   "metadata": {},
   "outputs": [],
   "source": [
    "def create_directory_structure():\n",
    "\n",
    "    path = os.path.expanduser('~')+'/oratio/data/images/' \n",
    "    commands = get_commands()\n",
    "\n",
    "    for command in commands:\n",
    "\n",
    "        os.mkdir(path+'train/'+command+'/')\n",
    "        os.mkdir(path+'test/'+command+'/')\n",
    "        os.mkdir(path+'val/'+command+'/')\n",
    "\n",
    "    return \"Done\"\n",
    "\n",
    "def get_commands():\n",
    "    exempt_list = [\n",
    "    '.DS_Store', 'validation_list.txt', 'LICENSE',\n",
    "    '_background_noise_', 'README.md', 'testing_list.txt'\n",
    "]\n",
    "\n",
    "    commands = get_directory_content(path=PATH)\n",
    "    commands = [command for command in commands if command not in exempt_list]\n",
    "\n",
    "    return commands \n",
    "\n",
    "def get_directory_content(path):\n",
    "    return os.listdir(path)\n",
    "\n",
    "def open_file(filename):\n",
    "    \n",
    "    f = open(filename)\n",
    "    return f.read().splitlines()\n",
    "\n",
    "def compile_dataset():\n",
    "\n",
    "    commands = get_commands()\n",
    "\n",
    "    filenames = []\n",
    "    for command in commands:\n",
    "        recordings = get_directory_content(path=PATH+command)\n",
    "        recordings = [command+'/'+recording for recording in recordings]\n",
    "        filenames = filenames + recordings\n",
    "                             \n",
    "    return filenames\n",
    "\n",
    "def save_specgram(file, set_path):  \n",
    "    y, sr = librosa.load(PATH+file)\n",
    "    fig = plt.figure(figsize=(1,1), dpi=100)\n",
    "    ax = fig.add_subplot(111)\n",
    "    fig.subplots_adjust(left=0,right=1,bottom=0,top=1)\n",
    "    ax.specgram(y, NFFT=2048, Fs=2, Fc=0, noverlap=128,sides='default', mode='default', scale='dB')\n",
    "    ax.axis('off')\n",
    "    word = file.split('/')[0]\n",
    "    file = file[:-4].replace('/', '-')\n",
    "    plt.savefig(f'../data/images/{set_path}/{word}/{file}.png', dpi=100)\n",
    "    plt.close(fig)"
   ]
  },
  {
   "cell_type": "code",
   "execution_count": 3,
   "metadata": {},
   "outputs": [],
   "source": [
    "audio_filenames = compile_dataset()\n",
    "test_files = open_file(TEST_PATH)\n",
    "validation_files = open_file(VAL_PATH)\n",
    "train_files = list(set(audio_filenames).difference(set(test_files+validation_files)))"
   ]
  },
  {
   "cell_type": "code",
   "execution_count": 5,
   "metadata": {},
   "outputs": [],
   "source": [
    "for file in train_files:\n",
    "    save_specgram(file=file, set_path='train')"
   ]
  },
  {
   "cell_type": "code",
   "execution_count": null,
   "metadata": {},
   "outputs": [
    {
     "name": "stderr",
     "output_type": "stream",
     "text": [
      "/Users/harshinderchadha/oratio/env/lib/python3.9/site-packages/matplotlib/axes/_axes.py:7626: RuntimeWarning: divide by zero encountered in log10\n",
      "  Z = 10. * np.log10(spec)\n"
     ]
    }
   ],
   "source": [
    "for file in test_files:\n",
    "    save_specgram(file=file, set_path='test')\n",
    "\n",
    "for file in validation_files:\n",
    "    save_specgram(file=file, set_path='val')"
   ]
  },
  {
   "cell_type": "code",
   "execution_count": null,
   "metadata": {},
   "outputs": [],
   "source": []
  }
 ],
 "metadata": {
  "kernelspec": {
   "display_name": "oratio",
   "language": "python",
   "name": "oratio"
  },
  "language_info": {
   "codemirror_mode": {
    "name": "ipython",
    "version": 3
   },
   "file_extension": ".py",
   "mimetype": "text/x-python",
   "name": "python",
   "nbconvert_exporter": "python",
   "pygments_lexer": "ipython3",
   "version": "3.9.0"
  }
 },
 "nbformat": 4,
 "nbformat_minor": 4
}
